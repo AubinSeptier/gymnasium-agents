{
 "cells": [
  {
   "cell_type": "code",
   "execution_count": null,
   "metadata": {},
   "outputs": [],
   "source": [
    "import numpy as np\n",
    "import matplotlib.pyplot as plt\n",
    "from tqdm import tqdm\n",
    "import torch\n",
    "import random\n",
    "import time\n",
    "import os\n",
    "\n",
    "from C4_adapter_only.Env.c4_env import ConnectFourEnv, BOARD_ROWS, BOARD_COLS\n",
    "from C4_adapter_only.Agents.c4_random import ConnectFourRandomAgent\n",
    "from C4_adapter_only.Agents.c4_mcts import ConnectFourMCTSAgent\n",
    "from C4_adapter_only.Agents.c4_dqn import ConnectFourDQNAgent\n",
    "from C4_adapter_only.Agents.c4_alphazero.c4_az_agent import ConnectFourAlphaZeroAgent\n",
    "from C4_adapter_only.Agents.c4_alphazero.c4_model import ConnectFourAlphaZeroNet\n",
    "from C4_adapter_only.Agents.c4_alphazero.c4_train import train_loop\n",
    "\n",
    "\n",
    "from C4_adapter_only.Utils.c4_evaluate_agent import evaluate_connect_four_agent\n",
    "from C4_adapter_only.Utils.c4_visualize_game import visualize_connect_four_game\n",
    "\n",
    "np.random.seed(42)\n",
    "random.seed(42)\n",
    "torch.manual_seed(42)\n",
    "if torch.cuda.is_available():\n",
    "    torch.cuda.manual_seed_all(42)\n",
    "\n",
    "os.makedirs(\"models\", exist_ok=True)"
   ]
  },
  {
   "cell_type": "code",
   "execution_count": 19,
   "metadata": {},
   "outputs": [
    {
     "name": "stdout",
     "output_type": "stream",
     "text": [
      "Device used for DQN: cuda\n"
     ]
    }
   ],
   "source": [
    "# Initialize the environment\n",
    "env = ConnectFourEnv()\n",
    "\n",
    "# Initialize Random Agent\n",
    "random_agent = ConnectFourRandomAgent()\n",
    "\n",
    "# Initialize MCTS Agent with different simulation counts\n",
    "mcts_agent_fast = ConnectFourMCTSAgent(num_simulations=100)\n",
    "mcts_agent = ConnectFourMCTSAgent(num_simulations=200)\n",
    "mcts_agent_deep = ConnectFourMCTSAgent(num_simulations=500)\n",
    "\n",
    "# Initialize DQN Agent\n",
    "dqn_agent = ConnectFourDQNAgent(\n",
    "    state_shape=(BOARD_ROWS, BOARD_COLS),\n",
    "    action_size=BOARD_COLS,\n",
    "    memory_size=10000,\n",
    "    gamma=0.95,\n",
    "    epsilon=1.0,\n",
    "    epsilon_min=0.01,\n",
    "    epsilon_decay=0.995,\n",
    "    learning_rate=0.001,\n",
    "    batch_size=64,\n",
    "    update_target_freq=10,\n",
    "    reward_scale=10.0,\n",
    ")\n",
    "\n",
    "# Initialize AlphaZero Agent\n",
    "alpha_zero_net = ConnectFourAlphaZeroNet()  \n",
    "alpha_zero_agent = ConnectFourAlphaZeroAgent(alpha_zero_net, num_simulations=100) \n",
    "print(f\"Device used for DQN: {dqn_agent.device}\")"
   ]
  },
  {
   "cell_type": "code",
   "execution_count": null,
   "metadata": {},
   "outputs": [
    {
     "name": "stdout",
     "output_type": "stream",
     "text": [
      "Iteration 1/200, Loss: 2.9103, Final Reward: 1.00\n",
      "Iteration 2/200, Loss: 2.7252, Final Reward: 1.00\n",
      "Iteration 3/200, Loss: 2.3988, Final Reward: 1.00\n",
      "Iteration 4/200, Loss: 3.2350, Final Reward: 1.00\n",
      "Iteration 5/200, Loss: 2.8108, Final Reward: 1.00\n",
      "Iteration 6/200, Loss: 2.7334, Final Reward: 1.00\n",
      "Iteration 7/200, Loss: 2.0003, Final Reward: 1.00\n",
      "Iteration 8/200, Loss: 2.0591, Final Reward: 1.00\n",
      "Iteration 9/200, Loss: 2.6702, Final Reward: 1.00\n",
      "Iteration 10/200, Loss: 2.3572, Final Reward: 1.00\n",
      "Iteration 11/200, Loss: 2.9414, Final Reward: 1.00\n",
      "Iteration 12/200, Loss: 3.1131, Final Reward: 1.00\n",
      "Iteration 13/200, Loss: 3.1403, Final Reward: 1.00\n",
      "Iteration 14/200, Loss: 2.3166, Final Reward: 1.00\n",
      "Iteration 15/200, Loss: 2.3224, Final Reward: 1.00\n",
      "Iteration 16/200, Loss: 2.1505, Final Reward: 1.00\n",
      "Iteration 17/200, Loss: 2.2288, Final Reward: 1.00\n",
      "Iteration 18/200, Loss: 2.3333, Final Reward: 1.00\n",
      "Iteration 19/200, Loss: 2.1251, Final Reward: 1.00\n",
      "Iteration 20/200, Loss: 2.4117, Final Reward: 1.00\n",
      "Iteration 21/200, Loss: 2.0358, Final Reward: 1.00\n",
      "Iteration 22/200, Loss: 2.1515, Final Reward: 1.00\n",
      "Iteration 23/200, Loss: 2.5391, Final Reward: 1.00\n",
      "Iteration 24/200, Loss: 2.3389, Final Reward: 1.00\n",
      "Iteration 25/200, Loss: 2.7972, Final Reward: 1.00\n",
      "Iteration 26/200, Loss: 2.0688, Final Reward: 1.00\n",
      "Iteration 27/200, Loss: 1.7358, Final Reward: 1.00\n",
      "Iteration 28/200, Loss: 2.3466, Final Reward: 1.00\n",
      "Iteration 29/200, Loss: 2.4763, Final Reward: 1.00\n",
      "Iteration 30/200, Loss: 2.4611, Final Reward: 1.00\n",
      "Iteration 31/200, Loss: 1.6994, Final Reward: 1.00\n",
      "Iteration 32/200, Loss: 2.3218, Final Reward: 1.00\n",
      "Iteration 33/200, Loss: 2.1852, Final Reward: 1.00\n",
      "Iteration 34/200, Loss: 2.3234, Final Reward: 1.00\n",
      "Iteration 35/200, Loss: 2.0791, Final Reward: 1.00\n",
      "Iteration 36/200, Loss: 2.3687, Final Reward: 1.00\n",
      "Iteration 37/200, Loss: 2.3783, Final Reward: 1.00\n",
      "Iteration 38/200, Loss: 1.9823, Final Reward: 1.00\n",
      "Iteration 39/200, Loss: 2.0816, Final Reward: 1.00\n",
      "Iteration 40/200, Loss: 2.4557, Final Reward: 1.00\n",
      "Iteration 41/200, Loss: 2.1241, Final Reward: 1.00\n",
      "Iteration 42/200, Loss: 1.9877, Final Reward: 1.00\n",
      "Iteration 43/200, Loss: 2.1071, Final Reward: 1.00\n",
      "Iteration 44/200, Loss: 1.7424, Final Reward: 1.00\n",
      "Iteration 45/200, Loss: 2.5771, Final Reward: 1.00\n",
      "Iteration 46/200, Loss: 1.5216, Final Reward: 1.00\n",
      "Iteration 47/200, Loss: 2.0188, Final Reward: 1.00\n",
      "Iteration 48/200, Loss: 1.2176, Final Reward: 1.00\n",
      "Iteration 49/200, Loss: 1.4848, Final Reward: 1.00\n",
      "Iteration 50/200, Loss: 2.2067, Final Reward: 1.00\n",
      "Iteration 51/200, Loss: 1.3272, Final Reward: 1.00\n",
      "Iteration 52/200, Loss: 2.3498, Final Reward: 1.00\n",
      "Iteration 53/200, Loss: 1.7509, Final Reward: 1.00\n",
      "Iteration 54/200, Loss: 1.4556, Final Reward: 1.00\n",
      "Iteration 55/200, Loss: 2.2440, Final Reward: 1.00\n",
      "Iteration 56/200, Loss: 2.3530, Final Reward: 1.00\n",
      "Iteration 57/200, Loss: 2.1101, Final Reward: 1.00\n",
      "Iteration 58/200, Loss: 1.9011, Final Reward: 1.00\n",
      "Iteration 59/200, Loss: 1.5497, Final Reward: 1.00\n",
      "Iteration 60/200, Loss: 1.6463, Final Reward: 1.00\n",
      "Iteration 61/200, Loss: 2.1013, Final Reward: 1.00\n",
      "Iteration 62/200, Loss: 1.5720, Final Reward: 1.00\n",
      "Iteration 63/200, Loss: 1.7551, Final Reward: 1.00\n",
      "Iteration 64/200, Loss: 2.0575, Final Reward: 1.00\n",
      "Iteration 65/200, Loss: 1.9557, Final Reward: 1.00\n",
      "Iteration 66/200, Loss: 1.6563, Final Reward: 1.00\n",
      "Iteration 67/200, Loss: 1.2997, Final Reward: 1.00\n",
      "Iteration 68/200, Loss: 1.7597, Final Reward: 1.00\n",
      "Iteration 69/200, Loss: 1.3032, Final Reward: 1.00\n",
      "Iteration 70/200, Loss: 1.6047, Final Reward: 1.00\n",
      "Iteration 71/200, Loss: 1.3810, Final Reward: 1.00\n",
      "Iteration 72/200, Loss: 1.5430, Final Reward: 1.00\n",
      "Iteration 73/200, Loss: 1.7710, Final Reward: 1.00\n",
      "Iteration 74/200, Loss: 1.6803, Final Reward: 1.00\n",
      "Iteration 75/200, Loss: 1.3539, Final Reward: 1.00\n",
      "Iteration 76/200, Loss: 1.8946, Final Reward: 1.00\n",
      "Iteration 77/200, Loss: 2.2018, Final Reward: 1.00\n",
      "Iteration 78/200, Loss: 1.7226, Final Reward: 1.00\n",
      "Iteration 79/200, Loss: 1.3394, Final Reward: 1.00\n",
      "Iteration 80/200, Loss: 1.3954, Final Reward: 1.00\n",
      "Iteration 81/200, Loss: 1.8308, Final Reward: 1.00\n",
      "Iteration 82/200, Loss: 1.3550, Final Reward: 1.00\n",
      "Iteration 83/200, Loss: 1.2705, Final Reward: 1.00\n",
      "Iteration 84/200, Loss: 1.5829, Final Reward: 1.00\n",
      "Iteration 85/200, Loss: 1.3045, Final Reward: 1.00\n",
      "Iteration 86/200, Loss: 1.2545, Final Reward: 1.00\n",
      "Iteration 87/200, Loss: 1.5316, Final Reward: 1.00\n",
      "Iteration 88/200, Loss: 1.3051, Final Reward: 1.00\n",
      "Iteration 89/200, Loss: 3.6248, Final Reward: 1.00\n",
      "Iteration 90/200, Loss: 3.2249, Final Reward: 1.00\n",
      "Iteration 91/200, Loss: 1.8982, Final Reward: 1.00\n",
      "Iteration 92/200, Loss: 1.2927, Final Reward: 1.00\n",
      "Iteration 93/200, Loss: 1.9948, Final Reward: 1.00\n",
      "Iteration 94/200, Loss: 1.8954, Final Reward: 1.00\n",
      "Iteration 95/200, Loss: 4.0961, Final Reward: 1.00\n",
      "Iteration 96/200, Loss: 1.8606, Final Reward: 1.00\n",
      "Iteration 97/200, Loss: 1.4131, Final Reward: 1.00\n",
      "Iteration 98/200, Loss: 1.1679, Final Reward: 1.00\n",
      "Iteration 99/200, Loss: 3.1604, Final Reward: 1.00\n",
      "Iteration 100/200, Loss: 2.0948, Final Reward: 1.00\n",
      "Iteration 101/200, Loss: 1.5534, Final Reward: 1.00\n",
      "Iteration 102/200, Loss: 1.9587, Final Reward: 1.00\n",
      "Iteration 103/200, Loss: 2.2700, Final Reward: 0.00\n",
      "Iteration 104/200, Loss: 1.8491, Final Reward: 1.00\n",
      "Iteration 105/200, Loss: 1.6085, Final Reward: 1.00\n",
      "Iteration 106/200, Loss: 2.4789, Final Reward: 1.00\n",
      "Iteration 107/200, Loss: 2.2325, Final Reward: 1.00\n",
      "Iteration 108/200, Loss: 2.4123, Final Reward: 1.00\n",
      "Iteration 109/200, Loss: 2.0219, Final Reward: 1.00\n",
      "Iteration 110/200, Loss: 2.1358, Final Reward: 1.00\n",
      "Iteration 111/200, Loss: 1.9614, Final Reward: 1.00\n",
      "Iteration 112/200, Loss: 1.9702, Final Reward: 1.00\n",
      "Iteration 113/200, Loss: 1.8156, Final Reward: 1.00\n",
      "Iteration 114/200, Loss: 2.1735, Final Reward: 1.00\n",
      "Iteration 115/200, Loss: 1.9747, Final Reward: 1.00\n",
      "Iteration 116/200, Loss: 2.0879, Final Reward: 1.00\n",
      "Iteration 117/200, Loss: 2.1473, Final Reward: 1.00\n",
      "Iteration 118/200, Loss: 2.0074, Final Reward: 1.00\n",
      "Iteration 119/200, Loss: 2.0851, Final Reward: 1.00\n",
      "Iteration 120/200, Loss: 1.5482, Final Reward: 1.00\n",
      "Iteration 121/200, Loss: 1.3450, Final Reward: 1.00\n",
      "Iteration 122/200, Loss: 2.1691, Final Reward: 1.00\n",
      "Iteration 123/200, Loss: 1.9162, Final Reward: 1.00\n",
      "Iteration 124/200, Loss: 2.7241, Final Reward: 1.00\n",
      "Iteration 125/200, Loss: 1.6022, Final Reward: 1.00\n",
      "Iteration 126/200, Loss: 2.3457, Final Reward: 1.00\n",
      "Iteration 127/200, Loss: 1.8462, Final Reward: 1.00\n",
      "Iteration 128/200, Loss: 1.5751, Final Reward: 1.00\n",
      "Iteration 129/200, Loss: 2.4007, Final Reward: 1.00\n",
      "Iteration 130/200, Loss: 1.8032, Final Reward: 1.00\n",
      "Iteration 131/200, Loss: 1.7908, Final Reward: 1.00\n",
      "Iteration 132/200, Loss: 2.0179, Final Reward: 1.00\n",
      "Iteration 133/200, Loss: 1.3183, Final Reward: 1.00\n",
      "Iteration 134/200, Loss: 1.7652, Final Reward: 1.00\n",
      "Iteration 135/200, Loss: 1.6525, Final Reward: 1.00\n",
      "Iteration 136/200, Loss: 1.8561, Final Reward: 1.00\n",
      "Iteration 137/200, Loss: 1.7988, Final Reward: 1.00\n",
      "Iteration 138/200, Loss: 2.3928, Final Reward: 1.00\n",
      "Iteration 139/200, Loss: 2.7941, Final Reward: 1.00\n",
      "Iteration 140/200, Loss: 2.2913, Final Reward: 1.00\n",
      "Iteration 141/200, Loss: 1.8018, Final Reward: 1.00\n",
      "Iteration 142/200, Loss: 2.2565, Final Reward: 1.00\n",
      "Iteration 143/200, Loss: 1.9394, Final Reward: 1.00\n",
      "Iteration 144/200, Loss: 2.7863, Final Reward: 1.00\n",
      "Iteration 145/200, Loss: 2.7954, Final Reward: 1.00\n",
      "Iteration 146/200, Loss: 2.8233, Final Reward: 1.00\n",
      "Iteration 147/200, Loss: 2.1269, Final Reward: 1.00\n",
      "Iteration 148/200, Loss: 2.7564, Final Reward: 1.00\n",
      "Iteration 149/200, Loss: 2.6526, Final Reward: 1.00\n",
      "Iteration 150/200, Loss: 2.2100, Final Reward: 1.00\n",
      "Iteration 151/200, Loss: 2.0676, Final Reward: 1.00\n",
      "Iteration 152/200, Loss: 2.5407, Final Reward: 1.00\n",
      "Iteration 153/200, Loss: 2.5092, Final Reward: 1.00\n",
      "Iteration 154/200, Loss: 2.0732, Final Reward: 1.00\n",
      "Iteration 155/200, Loss: 2.0306, Final Reward: 1.00\n",
      "Iteration 156/200, Loss: 2.4145, Final Reward: 1.00\n",
      "Iteration 157/200, Loss: 2.3460, Final Reward: 1.00\n",
      "Iteration 158/200, Loss: 2.2748, Final Reward: 1.00\n",
      "Iteration 159/200, Loss: 2.0303, Final Reward: 1.00\n",
      "Iteration 160/200, Loss: 1.9078, Final Reward: 1.00\n",
      "Iteration 161/200, Loss: 2.2151, Final Reward: 1.00\n",
      "Iteration 162/200, Loss: 1.2479, Final Reward: 1.00\n",
      "Iteration 163/200, Loss: 1.6270, Final Reward: 1.00\n",
      "Iteration 164/200, Loss: 1.9206, Final Reward: 1.00\n",
      "Iteration 165/200, Loss: 2.2389, Final Reward: 1.00\n",
      "Iteration 166/200, Loss: 1.8513, Final Reward: 1.00\n",
      "Iteration 167/200, Loss: 2.6039, Final Reward: 1.00\n",
      "Iteration 168/200, Loss: 1.9448, Final Reward: 1.00\n",
      "Iteration 169/200, Loss: 1.9342, Final Reward: 1.00\n",
      "Iteration 170/200, Loss: 1.6291, Final Reward: 1.00\n",
      "Iteration 171/200, Loss: 1.3145, Final Reward: 1.00\n",
      "Iteration 172/200, Loss: 2.3982, Final Reward: 1.00\n",
      "Iteration 173/200, Loss: 1.0582, Final Reward: 1.00\n",
      "Iteration 174/200, Loss: 1.7460, Final Reward: 1.00\n",
      "Iteration 175/200, Loss: 2.4001, Final Reward: 1.00\n",
      "Iteration 176/200, Loss: 2.5809, Final Reward: 1.00\n",
      "Iteration 177/200, Loss: 1.6942, Final Reward: 1.00\n",
      "Iteration 178/200, Loss: 2.1155, Final Reward: 1.00\n",
      "Iteration 179/200, Loss: 1.6117, Final Reward: 1.00\n",
      "Iteration 180/200, Loss: 3.1335, Final Reward: 1.00\n",
      "Iteration 181/200, Loss: 3.4894, Final Reward: 1.00\n",
      "Iteration 182/200, Loss: 1.8422, Final Reward: 1.00\n",
      "Iteration 183/200, Loss: 1.8423, Final Reward: 1.00\n",
      "Iteration 184/200, Loss: 2.2553, Final Reward: 1.00\n",
      "Iteration 185/200, Loss: 2.1855, Final Reward: 1.00\n",
      "Iteration 186/200, Loss: 2.3766, Final Reward: 1.00\n",
      "Iteration 187/200, Loss: 2.2056, Final Reward: 1.00\n",
      "Iteration 188/200, Loss: 1.9904, Final Reward: 1.00\n",
      "Iteration 189/200, Loss: 1.1446, Final Reward: 1.00\n",
      "Iteration 190/200, Loss: 1.9598, Final Reward: 1.00\n",
      "Iteration 191/200, Loss: 2.2659, Final Reward: 1.00\n",
      "Iteration 192/200, Loss: 2.4187, Final Reward: 1.00\n",
      "Iteration 193/200, Loss: 2.9304, Final Reward: 1.00\n",
      "Iteration 194/200, Loss: 2.3741, Final Reward: 1.00\n",
      "Iteration 195/200, Loss: 1.6169, Final Reward: 1.00\n",
      "Iteration 196/200, Loss: 2.0226, Final Reward: 1.00\n",
      "Iteration 197/200, Loss: 1.5450, Final Reward: 1.00\n",
      "Iteration 198/200, Loss: 2.0200, Final Reward: 1.00\n",
      "Iteration 199/200, Loss: 2.5723, Final Reward: 1.00\n",
      "Iteration 200/200, Loss: 1.5405, Final Reward: 1.00\n"
     ]
    }
   ],
   "source": [
    "#training the alpha zero agent\n",
    "training_losses, training_rewards = train_loop()"
   ]
  },
  {
   "cell_type": "code",
   "execution_count": 3,
   "metadata": {},
   "outputs": [
    {
     "name": "stdout",
     "output_type": "stream",
     "text": [
      "Model saved at models/connect_four_alphazero_trained.pt\n"
     ]
    }
   ],
   "source": [
    "alpha_zero_model_path = \"models/connect_four_alphazero_trained.pt\"\n",
    "torch.save(alpha_zero_agent.network.state_dict(), alpha_zero_model_path)\n",
    "print(f\"Model saved at {alpha_zero_model_path}\")\n"
   ]
  },
  {
   "cell_type": "code",
   "execution_count": 4,
   "metadata": {},
   "outputs": [
    {
     "name": "stdout",
     "output_type": "stream",
     "text": [
      "Loading pre-trained AlphaZero model...\n"
     ]
    }
   ],
   "source": [
    "# Initialize AlphaZero Agent\n",
    "alpha_zero_net = ConnectFourAlphaZeroNet()  \n",
    "alpha_zero_agent = ConnectFourAlphaZeroAgent(alpha_zero_net, num_simulations=100)\n",
    "\n",
    "# Load pre-trained AlphaZero model\n",
    "alpha_zero_model_path = \"/home/euler03/projects/rl_gym/src/C4_adapter_only/Models/connect_four_alphazero_trained.pt\"\n",
    "if os.path.exists(alpha_zero_model_path):\n",
    "    print(\"Loading pre-trained AlphaZero model...\")\n",
    "    alpha_zero_agent.network.load_state_dict(torch.load(alpha_zero_model_path))\n",
    "    alpha_zero_agent.network.eval()\n",
    "else:\n",
    "    print(\"Warning: Pre-trained AlphaZero model not found!\")\n"
   ]
  },
  {
   "cell_type": "code",
   "execution_count": 21,
   "metadata": {},
   "outputs": [
    {
     "name": "stdout",
     "output_type": "stream",
     "text": [
      "Training DQN agent for 1000 episodes...\n",
      "Episode 10/1000\n",
      "   Opponent: self\n",
      "   Total Reward: 10.00\n",
      "   Avg Loss: 0.2811\n",
      "   Epsilon: 0.7705\n",
      "Episode 20/1000\n",
      "   Opponent: mcts_fast\n",
      "   Total Reward: 10.00\n",
      "   Avg Loss: 0.1992\n",
      "   Epsilon: 0.5058\n",
      "Episode 30/1000\n",
      "   Opponent: random\n",
      "   Total Reward: 10.00\n",
      "   Avg Loss: 0.5422\n",
      "   Epsilon: 0.2689\n",
      "Episode 40/1000\n",
      "   Opponent: alpha_zero\n",
      "   Total Reward: 0.00\n",
      "   Avg Loss: 0.8025\n",
      "   Epsilon: 0.1589\n",
      "Episode 50/1000\n",
      "   Opponent: self\n",
      "   Total Reward: 10.00\n",
      "   Avg Loss: 1.7932\n",
      "   Epsilon: 0.0911\n",
      "Episode 60/1000\n",
      "   Opponent: mcts_fast\n",
      "   Total Reward: 0.00\n",
      "   Avg Loss: 1.0669\n",
      "   Epsilon: 0.0541\n",
      "Episode 70/1000\n",
      "   Opponent: self\n",
      "   Total Reward: 10.00\n",
      "   Avg Loss: 1.2849\n",
      "   Epsilon: 0.0304\n",
      "Episode 80/1000\n",
      "   Opponent: self\n",
      "   Total Reward: 10.00\n",
      "   Avg Loss: 1.8915\n",
      "   Epsilon: 0.0175\n",
      "Episode 90/1000\n",
      "   Opponent: self\n",
      "   Total Reward: 0.00\n",
      "   Avg Loss: 3.9332\n",
      "   Epsilon: 0.0100\n",
      "Episode 100/1000\n",
      "   Opponent: mcts_fast\n",
      "   Total Reward: 10.00\n",
      "   Avg Loss: 6.7668\n",
      "   Epsilon: 0.0100\n",
      "Episode 110/1000\n",
      "   Opponent: alpha_zero\n",
      "   Total Reward: 10.00\n",
      "   Avg Loss: 2.2967\n",
      "   Epsilon: 0.0100\n",
      "Episode 120/1000\n",
      "   Opponent: self\n",
      "   Total Reward: 10.00\n",
      "   Avg Loss: 3.8395\n",
      "   Epsilon: 0.0100\n",
      "Episode 130/1000\n",
      "   Opponent: alpha_zero\n",
      "   Total Reward: 10.00\n",
      "   Avg Loss: 4.9948\n",
      "   Epsilon: 0.0100\n",
      "Episode 140/1000\n",
      "   Opponent: mcts_fast\n",
      "   Total Reward: 0.00\n",
      "   Avg Loss: 3.5509\n",
      "   Epsilon: 0.0100\n",
      "Episode 150/1000\n",
      "   Opponent: alpha_zero\n",
      "   Total Reward: 10.00\n",
      "   Avg Loss: 3.7357\n",
      "   Epsilon: 0.0100\n",
      "Episode 160/1000\n",
      "   Opponent: random\n",
      "   Total Reward: 10.00\n",
      "   Avg Loss: 5.0346\n",
      "   Epsilon: 0.0100\n",
      "Episode 170/1000\n",
      "   Opponent: self\n",
      "   Total Reward: 10.00\n",
      "   Avg Loss: 3.7603\n",
      "   Epsilon: 0.0100\n",
      "Episode 180/1000\n",
      "   Opponent: mcts_fast\n",
      "   Total Reward: 0.00\n",
      "   Avg Loss: 15.0542\n",
      "   Epsilon: 0.0100\n",
      "Episode 190/1000\n",
      "   Opponent: alpha_zero\n",
      "   Total Reward: 10.00\n",
      "   Avg Loss: 4.6249\n",
      "   Epsilon: 0.0100\n",
      "Episode 200/1000\n",
      "   Opponent: mcts_fast\n",
      "   Total Reward: 0.00\n",
      "   Avg Loss: 3.5772\n",
      "   Epsilon: 0.0100\n",
      "Episode 210/1000\n",
      "   Opponent: self\n",
      "   Total Reward: 10.00\n",
      "   Avg Loss: 3.3092\n",
      "   Epsilon: 0.0100\n",
      "Episode 220/1000\n",
      "   Opponent: self\n",
      "   Total Reward: 10.00\n",
      "   Avg Loss: 1.9525\n",
      "   Epsilon: 0.0100\n",
      "Episode 230/1000\n",
      "   Opponent: self\n",
      "   Total Reward: 0.00\n",
      "   Avg Loss: 1.1800\n",
      "   Epsilon: 0.0100\n",
      "Episode 240/1000\n",
      "   Opponent: random\n",
      "   Total Reward: 10.00\n",
      "   Avg Loss: 0.8047\n",
      "   Epsilon: 0.0100\n",
      "Episode 250/1000\n",
      "   Opponent: self\n",
      "   Total Reward: 0.00\n",
      "   Avg Loss: 0.6293\n",
      "   Epsilon: 0.0100\n",
      "Episode 260/1000\n",
      "   Opponent: self\n",
      "   Total Reward: 0.00\n",
      "   Avg Loss: 0.5212\n",
      "   Epsilon: 0.0100\n",
      "Episode 270/1000\n",
      "   Opponent: self\n",
      "   Total Reward: 10.00\n",
      "   Avg Loss: 0.4785\n",
      "   Epsilon: 0.0100\n",
      "Episode 280/1000\n",
      "   Opponent: alpha_zero\n",
      "   Total Reward: 0.00\n",
      "   Avg Loss: 0.3317\n",
      "   Epsilon: 0.0100\n",
      "Episode 290/1000\n",
      "   Opponent: mcts_fast\n",
      "   Total Reward: 10.00\n",
      "   Avg Loss: 0.2899\n",
      "   Epsilon: 0.0100\n",
      "Episode 300/1000\n",
      "   Opponent: random\n",
      "   Total Reward: 10.00\n",
      "   Avg Loss: 0.3503\n",
      "   Epsilon: 0.0100\n",
      "Episode 310/1000\n",
      "   Opponent: self\n",
      "   Total Reward: 0.00\n",
      "   Avg Loss: 0.2313\n",
      "   Epsilon: 0.0100\n",
      "Episode 320/1000\n",
      "   Opponent: self\n",
      "   Total Reward: 10.00\n",
      "   Avg Loss: 0.2339\n",
      "   Epsilon: 0.0100\n",
      "Episode 330/1000\n",
      "   Opponent: alpha_zero\n",
      "   Total Reward: 10.00\n",
      "   Avg Loss: 0.2268\n",
      "   Epsilon: 0.0100\n",
      "Episode 340/1000\n",
      "   Opponent: self\n",
      "   Total Reward: 0.00\n",
      "   Avg Loss: 0.1419\n",
      "   Epsilon: 0.0100\n",
      "Episode 350/1000\n",
      "   Opponent: mcts_fast\n",
      "   Total Reward: 0.00\n",
      "   Avg Loss: 0.1620\n",
      "   Epsilon: 0.0100\n",
      "Episode 360/1000\n",
      "   Opponent: self\n",
      "   Total Reward: 0.00\n",
      "   Avg Loss: 0.1803\n",
      "   Epsilon: 0.0100\n",
      "Episode 370/1000\n",
      "   Opponent: self\n",
      "   Total Reward: 0.00\n",
      "   Avg Loss: 0.1572\n",
      "   Epsilon: 0.0100\n",
      "Episode 380/1000\n",
      "   Opponent: self\n",
      "   Total Reward: 0.00\n",
      "   Avg Loss: 0.1379\n",
      "   Epsilon: 0.0100\n",
      "Episode 390/1000\n",
      "   Opponent: alpha_zero\n",
      "   Total Reward: 10.00\n",
      "   Avg Loss: 0.1692\n",
      "   Epsilon: 0.0100\n",
      "Episode 400/1000\n",
      "   Opponent: random\n",
      "   Total Reward: 10.00\n",
      "   Avg Loss: 0.1478\n",
      "   Epsilon: 0.0100\n",
      "Episode 410/1000\n",
      "   Opponent: self\n",
      "   Total Reward: 10.00\n",
      "   Avg Loss: 0.1654\n",
      "   Epsilon: 0.0100\n",
      "Episode 420/1000\n",
      "   Opponent: mcts_fast\n",
      "   Total Reward: 10.00\n",
      "   Avg Loss: 0.2036\n",
      "   Epsilon: 0.0100\n",
      "Episode 430/1000\n",
      "   Opponent: self\n",
      "   Total Reward: 0.00\n",
      "   Avg Loss: 0.1511\n",
      "   Epsilon: 0.0100\n",
      "Episode 440/1000\n",
      "   Opponent: self\n",
      "   Total Reward: 0.00\n",
      "   Avg Loss: 0.1637\n",
      "   Epsilon: 0.0100\n",
      "Episode 450/1000\n",
      "   Opponent: self\n",
      "   Total Reward: 0.00\n",
      "   Avg Loss: 0.2004\n",
      "   Epsilon: 0.0100\n",
      "Episode 460/1000\n",
      "   Opponent: self\n",
      "   Total Reward: 10.00\n",
      "   Avg Loss: 0.1482\n",
      "   Epsilon: 0.0100\n",
      "Episode 470/1000\n",
      "   Opponent: self\n",
      "   Total Reward: 10.00\n",
      "   Avg Loss: 0.1627\n",
      "   Epsilon: 0.0100\n",
      "Episode 480/1000\n",
      "   Opponent: self\n",
      "   Total Reward: 0.00\n",
      "   Avg Loss: 0.1757\n",
      "   Epsilon: 0.0100\n",
      "Episode 490/1000\n",
      "   Opponent: self\n",
      "   Total Reward: 10.00\n",
      "   Avg Loss: 0.1690\n",
      "   Epsilon: 0.0100\n",
      "Episode 500/1000\n",
      "   Opponent: self\n",
      "   Total Reward: 0.00\n",
      "   Avg Loss: 0.1559\n",
      "   Epsilon: 0.0100\n",
      "Episode 510/1000\n",
      "   Opponent: alpha_zero\n",
      "   Total Reward: 10.00\n",
      "   Avg Loss: 0.2134\n",
      "   Epsilon: 0.0100\n",
      "Episode 520/1000\n",
      "   Opponent: mcts_fast\n",
      "   Total Reward: 10.00\n",
      "   Avg Loss: 0.1885\n",
      "   Epsilon: 0.0100\n",
      "Episode 530/1000\n",
      "   Opponent: self\n",
      "   Total Reward: 0.00\n",
      "   Avg Loss: 0.1749\n",
      "   Epsilon: 0.0100\n",
      "Episode 540/1000\n",
      "   Opponent: self\n",
      "   Total Reward: 0.00\n",
      "   Avg Loss: 0.1754\n",
      "   Epsilon: 0.0100\n",
      "Episode 550/1000\n",
      "   Opponent: self\n",
      "   Total Reward: 10.00\n",
      "   Avg Loss: 0.1811\n",
      "   Epsilon: 0.0100\n",
      "Episode 560/1000\n",
      "   Opponent: mcts_fast\n",
      "   Total Reward: 10.00\n",
      "   Avg Loss: 0.1239\n",
      "   Epsilon: 0.0100\n",
      "Episode 570/1000\n",
      "   Opponent: self\n",
      "   Total Reward: 10.00\n",
      "   Avg Loss: 0.1606\n",
      "   Epsilon: 0.0100\n",
      "Episode 580/1000\n",
      "   Opponent: self\n",
      "   Total Reward: 10.00\n",
      "   Avg Loss: 0.1522\n",
      "   Epsilon: 0.0100\n",
      "Episode 590/1000\n",
      "   Opponent: random\n",
      "   Total Reward: 0.00\n",
      "   Avg Loss: 0.1464\n",
      "   Epsilon: 0.0100\n",
      "Episode 600/1000\n",
      "   Opponent: mcts_fast\n",
      "   Total Reward: 10.00\n",
      "   Avg Loss: 0.2704\n",
      "   Epsilon: 0.0100\n",
      "Episode 610/1000\n",
      "   Opponent: self\n",
      "   Total Reward: 10.00\n",
      "   Avg Loss: 0.1653\n",
      "   Epsilon: 0.0100\n",
      "Episode 620/1000\n",
      "   Opponent: self\n",
      "   Total Reward: 10.00\n",
      "   Avg Loss: 0.1885\n",
      "   Epsilon: 0.0100\n",
      "Episode 630/1000\n",
      "   Opponent: self\n",
      "   Total Reward: 10.00\n",
      "   Avg Loss: 0.1694\n",
      "   Epsilon: 0.0100\n",
      "Episode 640/1000\n",
      "   Opponent: mcts_fast\n",
      "   Total Reward: 10.00\n",
      "   Avg Loss: 0.2191\n",
      "   Epsilon: 0.0100\n",
      "Episode 650/1000\n",
      "   Opponent: self\n",
      "   Total Reward: 0.00\n",
      "   Avg Loss: 0.1832\n",
      "   Epsilon: 0.0100\n",
      "Episode 660/1000\n",
      "   Opponent: self\n",
      "   Total Reward: 10.00\n",
      "   Avg Loss: 0.2434\n",
      "   Epsilon: 0.0100\n",
      "Episode 670/1000\n",
      "   Opponent: self\n",
      "   Total Reward: 0.00\n",
      "   Avg Loss: 0.1981\n",
      "   Epsilon: 0.0100\n",
      "Episode 680/1000\n",
      "   Opponent: mcts_fast\n",
      "   Total Reward: 10.00\n",
      "   Avg Loss: 0.2011\n",
      "   Epsilon: 0.0100\n",
      "Episode 690/1000\n",
      "   Opponent: self\n",
      "   Total Reward: 0.00\n",
      "   Avg Loss: 0.1838\n",
      "   Epsilon: 0.0100\n",
      "Episode 700/1000\n",
      "   Opponent: random\n",
      "   Total Reward: 10.00\n",
      "   Avg Loss: 0.2526\n",
      "   Epsilon: 0.0100\n",
      "Episode 710/1000\n",
      "   Opponent: self\n",
      "   Total Reward: 0.00\n",
      "   Avg Loss: 0.1521\n",
      "   Epsilon: 0.0100\n",
      "Episode 720/1000\n",
      "   Opponent: self\n",
      "   Total Reward: 10.00\n",
      "   Avg Loss: 0.1806\n",
      "   Epsilon: 0.0100\n",
      "Episode 730/1000\n",
      "   Opponent: self\n",
      "   Total Reward: 0.00\n",
      "   Avg Loss: 0.1582\n",
      "   Epsilon: 0.0100\n",
      "Episode 740/1000\n",
      "   Opponent: self\n",
      "   Total Reward: 10.00\n",
      "   Avg Loss: 0.1571\n",
      "   Epsilon: 0.0100\n",
      "Episode 750/1000\n",
      "   Opponent: self\n",
      "   Total Reward: 10.00\n",
      "   Avg Loss: 0.1857\n",
      "   Epsilon: 0.0100\n",
      "Episode 760/1000\n",
      "   Opponent: self\n",
      "   Total Reward: 0.00\n",
      "   Avg Loss: 0.1677\n",
      "   Epsilon: 0.0100\n",
      "Episode 770/1000\n",
      "   Opponent: self\n",
      "   Total Reward: 0.00\n",
      "   Avg Loss: 0.2547\n",
      "   Epsilon: 0.0100\n",
      "Episode 780/1000\n",
      "   Opponent: self\n",
      "   Total Reward: 0.00\n",
      "   Avg Loss: 0.1805\n",
      "   Epsilon: 0.0100\n",
      "Episode 790/1000\n",
      "   Opponent: mcts_fast\n",
      "   Total Reward: 0.00\n",
      "   Avg Loss: 0.2313\n",
      "   Epsilon: 0.0100\n",
      "Episode 800/1000\n",
      "   Opponent: self\n",
      "   Total Reward: 0.00\n",
      "   Avg Loss: 0.1976\n",
      "   Epsilon: 0.0100\n",
      "Episode 810/1000\n",
      "   Opponent: alpha_zero\n",
      "   Total Reward: 10.00\n",
      "   Avg Loss: 0.2257\n",
      "   Epsilon: 0.0100\n",
      "Episode 820/1000\n",
      "   Opponent: alpha_zero\n",
      "   Total Reward: 0.00\n",
      "   Avg Loss: 0.1477\n",
      "   Epsilon: 0.0100\n",
      "Episode 830/1000\n",
      "   Opponent: self\n",
      "   Total Reward: 10.00\n",
      "   Avg Loss: 0.1536\n",
      "   Epsilon: 0.0100\n",
      "Episode 840/1000\n",
      "   Opponent: random\n",
      "   Total Reward: 10.00\n",
      "   Avg Loss: 0.2028\n",
      "   Epsilon: 0.0100\n",
      "Episode 850/1000\n",
      "   Opponent: self\n",
      "   Total Reward: 10.00\n",
      "   Avg Loss: 0.1733\n",
      "   Epsilon: 0.0100\n",
      "Episode 860/1000\n",
      "   Opponent: self\n",
      "   Total Reward: 10.00\n",
      "   Avg Loss: 0.1664\n",
      "   Epsilon: 0.0100\n",
      "Episode 870/1000\n",
      "   Opponent: self\n",
      "   Total Reward: 10.00\n",
      "   Avg Loss: 0.2224\n",
      "   Epsilon: 0.0100\n",
      "Episode 880/1000\n",
      "   Opponent: alpha_zero\n",
      "   Total Reward: 0.00\n",
      "   Avg Loss: 0.2195\n",
      "   Epsilon: 0.0100\n",
      "Episode 890/1000\n",
      "   Opponent: mcts_fast\n",
      "   Total Reward: 10.00\n",
      "   Avg Loss: 0.1589\n",
      "   Epsilon: 0.0100\n",
      "Episode 900/1000\n",
      "   Opponent: mcts_fast\n",
      "   Total Reward: 10.00\n",
      "   Avg Loss: 0.1728\n",
      "   Epsilon: 0.0100\n",
      "Episode 910/1000\n",
      "   Opponent: self\n",
      "   Total Reward: 10.00\n",
      "   Avg Loss: 0.1845\n",
      "   Epsilon: 0.0100\n",
      "Episode 920/1000\n",
      "   Opponent: self\n",
      "   Total Reward: 0.00\n",
      "   Avg Loss: 0.2077\n",
      "   Epsilon: 0.0100\n",
      "Episode 930/1000\n",
      "   Opponent: self\n",
      "   Total Reward: 10.00\n",
      "   Avg Loss: 0.1910\n",
      "   Epsilon: 0.0100\n",
      "Episode 940/1000\n",
      "   Opponent: self\n",
      "   Total Reward: 0.00\n",
      "   Avg Loss: 0.2650\n",
      "   Epsilon: 0.0100\n",
      "Episode 950/1000\n",
      "   Opponent: self\n",
      "   Total Reward: 10.00\n",
      "   Avg Loss: 0.1690\n",
      "   Epsilon: 0.0100\n",
      "Episode 960/1000\n",
      "   Opponent: self\n",
      "   Total Reward: 10.00\n",
      "   Avg Loss: 0.1348\n",
      "   Epsilon: 0.0100\n",
      "Episode 970/1000\n",
      "   Opponent: self\n",
      "   Total Reward: 10.00\n",
      "   Avg Loss: 0.2197\n",
      "   Epsilon: 0.0100\n",
      "Episode 980/1000\n",
      "   Opponent: mcts_fast\n",
      "   Total Reward: 10.00\n",
      "   Avg Loss: 0.1842\n",
      "   Epsilon: 0.0100\n",
      "Episode 990/1000\n",
      "   Opponent: mcts_fast\n",
      "   Total Reward: 10.00\n",
      "   Avg Loss: 0.1929\n",
      "   Epsilon: 0.0100\n",
      "Episode 1000/1000\n",
      "   Opponent: self\n",
      "   Total Reward: 10.00\n",
      "   Avg Loss: 0.1686\n",
      "   Epsilon: 0.0100\n",
      "DQN agent training completed and model saved.\n"
     ]
    }
   ],
   "source": [
    "# Define opponents and their probabilities\n",
    "opponents = {\n",
    "    'self': dqn_agent,  # Self-play\n",
    "    'random': random_agent,\n",
    "    'mcts_fast': mcts_agent_fast,\n",
    "    'alpha_zero': alpha_zero_agent\n",
    "}\n",
    "\n",
    "# Define opponent probabilities \n",
    "opponent_probs = {\n",
    "    'self': 0.75,\n",
    "    'random': 0.10,\n",
    "    'alpha_zero': 0.15,\n",
    "    'mcts_fast': 0.20\n",
    "}\n",
    "\n",
    "# Number of training episodes\n",
    "num_episodes = 1000\n",
    "\n",
    "# Train the DQN agent\n",
    "print(f\"Training DQN agent for {num_episodes} episodes...\")\n",
    "rewards, losses = dqn_agent.train(env, num_episodes=num_episodes, \n",
    "                                 opponents=opponents, opponent_probs=opponent_probs)\n",
    "\n",
    "# Save the trained model\n",
    "dqn_agent.save(\"C4_adapter_only/Models/connect_four_dqn_trained1\")\n",
    "print(\"DQN agent training completed and model saved.\")"
   ]
  },
  {
   "cell_type": "code",
   "execution_count": null,
   "metadata": {},
   "outputs": [
    {
     "data": {
      "image/png": "[encoded data removed]",
      "text/plain": [
       "<Figure size 1080x432 with 2 Axes>"
      ]
     },
     "metadata": {
      "needs_background": "light"
     },
     "output_type": "display_data"
    }
   ],
   "source": [
    "# Plot rewards and losses\n",
    "plt.figure(figsize=(15, 6))\n",
    "\n",
    "plt.subplot(1, 2, 1)\n",
    "plt.plot(rewards, label='Reward', alpha=0.7)\n",
    "plt.plot(np.convolve(rewards, np.ones(10)/10, mode='valid'), label='Moving Avg (10 episodes)', linewidth=2)\n",
    "plt.xlabel('Episode')\n",
    "plt.ylabel('Reward')\n",
    "plt.title('DQN Training Rewards')\n",
    "plt.legend()\n",
    "plt.grid(True)\n",
    "\n",
    "plt.subplot(1, 2, 2)\n",
    "plt.plot(losses, label='Loss', alpha=0.7)\n",
    "plt.plot(np.convolve(losses, np.ones(10)/10, mode='valid'), label='Moving Avg (10 episodes)', linewidth=2)\n",
    "plt.xlabel('Episode')\n",
    "plt.ylabel('Loss')\n",
    "plt.title('DQN Training Losses')\n",
    "plt.legend()\n",
    "plt.grid(True)\n",
    "\n",
    "plt.tight_layout()\n",
    "plt.show()"
   ]
  },
  {
   "cell_type": "code",
   "execution_count": 24,
   "metadata": {},
   "outputs": [
    {
     "name": "stdout",
     "output_type": "stream",
     "text": [
      "Evaluating agents...\n"
     ]
    },
    {
     "name": "stderr",
     "output_type": "stream",
     "text": [
      "Connect4_DQN vs Connect4_Random: 100%|██████████| 50/50 [00:00<00:00, 72.97it/s]\n",
      "Connect4_Random vs Connect4_DQN: 100%|██████████| 50/50 [00:00<00:00, 1007.68it/s]\n",
      "Connect4_DQN vs Connect4_MCTS_200: 100%|██████████| 50/50 [00:00<00:00, 89.93it/s]\n",
      "Connect4_MCTS_200 vs Connect4_DQN: 100%|██████████| 50/50 [02:31<00:00,  3.04s/it]\n",
      "Connect4_MCTS_200 vs Connect4_Random: 100%|██████████| 50/50 [02:44<00:00,  3.28s/it]\n",
      "Connect4_Random vs Connect4_MCTS_200: 100%|██████████| 50/50 [00:00<00:00, 1120.64it/s]\n",
      "AlphaZero_100 vs Connect4_Random: 100%|██████████| 50/50 [02:45<00:00,  3.32s/it]\n",
      "Connect4_Random vs AlphaZero_100: 100%|██████████| 50/50 [00:00<00:00, 852.34it/s]\n",
      "AlphaZero_100 vs Connect4_MCTS_200: 100%|██████████| 50/50 [02:36<00:00,  3.13s/it]\n",
      "Connect4_MCTS_200 vs AlphaZero_100: 100%|██████████| 50/50 [02:38<00:00,  3.17s/it]\n",
      "AlphaZero_100 vs Connect4_DQN: 100%|██████████| 50/50 [02:54<00:00,  3.49s/it]\n",
      "Connect4_DQN vs AlphaZero_100: 100%|██████████| 50/50 [00:00<00:00, 71.45it/s]\n",
      "Connect4_DQN vs Connect4_DQN: 100%|██████████| 50/50 [00:00<00:00, 87.45it/s]\n",
      "Connect4_MCTS_200 vs Connect4_MCTS_200: 100%|██████████| 50/50 [02:41<00:00,  3.24s/it]\n",
      "AlphaZero_100 vs AlphaZero_100: 100%|██████████| 50/50 [03:21<00:00,  4.03s/it]\n",
      "Connect4_Random vs Connect4_Random: 100%|██████████| 10000/10000 [00:13<00:00, 748.24it/s]"
     ]
    },
    {
     "name": "stdout",
     "output_type": "stream",
     "text": [
      "\n",
      "Evaluation Results:\n",
      "DQN (RED) vs Random (YELLOW): Win Rate 90.00%, Avg Reward 0.90\n",
      "Random (RED) vs DQN (YELLOW): Win Rate 66.00%, Avg Reward 0.66\n",
      "DQN (RED) vs MCTS (YELLOW): Win Rate 98.00%, Avg Reward 0.98\n",
      "MCTS (RED) vs DQN (YELLOW): Win Rate 74.00%, Avg Reward 0.74\n",
      "MCTS (RED) vs Random (YELLOW): Win Rate 48.00%, Avg Reward 0.48\n",
      "Random (RED) vs MCTS (YELLOW): Win Rate 54.00%, Avg Reward 0.54\n",
      "AlphaZero (RED) vs Random (YELLOW): Win Rate 62.00%, Avg Reward 0.62\n",
      "Random (RED) vs AlphaZero (YELLOW): Win Rate 58.00%, Avg Reward 0.58\n",
      "AlphaZero (RED) vs MCTS (YELLOW): Win Rate 62.00%, Avg Reward 0.62\n",
      "MCTS (RED) vs AlphaZero (YELLOW): Win Rate 68.00%, Avg Reward 0.68\n",
      "AlphaZero (RED) vs DQN (YELLOW): Win Rate 66.00%, Avg Reward 0.66\n",
      "DQN (RED) vs AlphaZero (YELLOW): Win Rate 100.00%, Avg Reward 1.00\n",
      "DQN (RED) vs DQN (YELLOW): Win Rate 96.00%, Avg Reward 0.96\n",
      "MCTS (RED) vs MCTS (YELLOW): Win Rate 64.00%, Avg Reward 0.64\n",
      "AlphaZero (RED) vs AlphaZero (YELLOW): Win Rate 68.00%, Avg Reward 0.68\n",
      "Random (RED) vs Random (YELLOW): Win Rate 54.27%, Avg Reward 0.54\n"
     ]
    },
    {
     "name": "stderr",
     "output_type": "stream",
     "text": [
      "\n"
     ]
    }
   ],
   "source": [
    "# Number of evaluation games\n",
    "num_eval_games = 50\n",
    "\n",
    "print(\"Evaluating agents...\")\n",
    "\n",
    "# Evaluate DQN vs Random\n",
    "dqn_vs_random = evaluate_connect_four_agent(dqn_agent, random_agent, num_games=num_eval_games)\n",
    "random_vs_dqn = evaluate_connect_four_agent(random_agent, dqn_agent, num_games=num_eval_games)\n",
    "\n",
    "# Evaluate DQN vs MCTS\n",
    "dqn_vs_mcts = evaluate_connect_four_agent(dqn_agent, mcts_agent, num_games=num_eval_games)\n",
    "mcts_vs_dqn = evaluate_connect_four_agent(mcts_agent, dqn_agent, num_games=num_eval_games)\n",
    "\n",
    "# Evaluate MCTS vs Random\n",
    "mcts_vs_random = evaluate_connect_four_agent(mcts_agent, random_agent, num_games=num_eval_games)\n",
    "random_vs_mcts = evaluate_connect_four_agent(random_agent, mcts_agent, num_games=num_eval_games)\n",
    "\n",
    "# Evaluate AlphaZero vs other agents\n",
    "az_vs_random = evaluate_connect_four_agent(alpha_zero_agent, random_agent, num_games=num_eval_games)\n",
    "random_vs_az = evaluate_connect_four_agent(random_agent, alpha_zero_agent, num_games=num_eval_games)\n",
    "\n",
    "az_vs_mcts = evaluate_connect_four_agent(alpha_zero_agent, mcts_agent, num_games=num_eval_games)\n",
    "mcts_vs_az = evaluate_connect_four_agent(mcts_agent, alpha_zero_agent, num_games=num_eval_games)\n",
    "\n",
    "az_vs_dqn = evaluate_connect_four_agent(alpha_zero_agent, dqn_agent, num_games=num_eval_games)\n",
    "dqn_vs_az = evaluate_connect_four_agent(dqn_agent, alpha_zero_agent, num_games=num_eval_games)\n",
    "\n",
    "# Evaluate DQN vs DQN and MCTS vs MCTS\n",
    "dqn_vs_dqn = evaluate_connect_four_agent(dqn_agent, dqn_agent, num_games=num_eval_games)\n",
    "mcts_vs_mcts = evaluate_connect_four_agent(mcts_agent, mcts_agent, num_games=num_eval_games)\n",
    "\n",
    "# Evaluate AlphaZero vs AlphaZero\n",
    "az_vs_az = evaluate_connect_four_agent(alpha_zero_agent, alpha_zero_agent, num_games=num_eval_games)\n",
    "\n",
    "# Evaluate Random vs Random\n",
    "random_vs_random = evaluate_connect_four_agent(random_agent, random_agent, num_games=num_eval_games*200)\n",
    "\n",
    "# Print evaluation results\n",
    "print(\"\\nEvaluation Results:\")\n",
    "print(f\"DQN (RED) vs Random (YELLOW): Win Rate {dqn_vs_random['win_rate']:.2%}, Avg Reward {dqn_vs_random['avg_reward']:.2f}\")\n",
    "print(f\"Random (RED) vs DQN (YELLOW): Win Rate {random_vs_dqn['win_rate']:.2%}, Avg Reward {random_vs_dqn['avg_reward']:.2f}\")\n",
    "\n",
    "print(f\"DQN (RED) vs MCTS (YELLOW): Win Rate {dqn_vs_mcts['win_rate']:.2%}, Avg Reward {dqn_vs_mcts['avg_reward']:.2f}\")\n",
    "print(f\"MCTS (RED) vs DQN (YELLOW): Win Rate {mcts_vs_dqn['win_rate']:.2%}, Avg Reward {mcts_vs_dqn['avg_reward']:.2f}\")\n",
    "\n",
    "print(f\"MCTS (RED) vs Random (YELLOW): Win Rate {mcts_vs_random['win_rate']:.2%}, Avg Reward {mcts_vs_random['avg_reward']:.2f}\")\n",
    "print(f\"Random (RED) vs MCTS (YELLOW): Win Rate {random_vs_mcts['win_rate']:.2%}, Avg Reward {random_vs_mcts['avg_reward']:.2f}\")\n",
    "\n",
    "print(f\"AlphaZero (RED) vs Random (YELLOW): Win Rate {az_vs_random['win_rate']:.2%}, Avg Reward {az_vs_random['avg_reward']:.2f}\")\n",
    "print(f\"Random (RED) vs AlphaZero (YELLOW): Win Rate {random_vs_az['win_rate']:.2%}, Avg Reward {random_vs_az['avg_reward']:.2f}\")\n",
    "\n",
    "print(f\"AlphaZero (RED) vs MCTS (YELLOW): Win Rate {az_vs_mcts['win_rate']:.2%}, Avg Reward {az_vs_mcts['avg_reward']:.2f}\")\n",
    "print(f\"MCTS (RED) vs AlphaZero (YELLOW): Win Rate {mcts_vs_az['win_rate']:.2%}, Avg Reward {mcts_vs_az['avg_reward']:.2f}\")\n",
    "\n",
    "print(f\"AlphaZero (RED) vs DQN (YELLOW): Win Rate {az_vs_dqn['win_rate']:.2%}, Avg Reward {az_vs_dqn['avg_reward']:.2f}\")\n",
    "print(f\"DQN (RED) vs AlphaZero (YELLOW): Win Rate {dqn_vs_az['win_rate']:.2%}, Avg Reward {dqn_vs_az['avg_reward']:.2f}\")\n",
    "\n",
    "print(f\"DQN (RED) vs DQN (YELLOW): Win Rate {dqn_vs_dqn['win_rate']:.2%}, Avg Reward {dqn_vs_dqn['avg_reward']:.2f}\")\n",
    "print(f\"MCTS (RED) vs MCTS (YELLOW): Win Rate {mcts_vs_mcts['win_rate']:.2%}, Avg Reward {mcts_vs_mcts['avg_reward']:.2f}\")\n",
    "\n",
    "print(f\"AlphaZero (RED) vs AlphaZero (YELLOW): Win Rate {az_vs_az['win_rate']:.2%}, Avg Reward {az_vs_az['avg_reward']:.2f}\")\n",
    "\n",
    "print(f\"Random (RED) vs Random (YELLOW): Win Rate {random_vs_random['win_rate']:.2%}, Avg Reward {random_vs_random['avg_reward']:.2f}\")\n"
   ]
  },
  {
   "cell_type": "code",
   "execution_count": null,
   "metadata": {},
   "outputs": [
    {
     "data": {
      "image/png": "[encoded data removed]",
      "text/plain": [
       "<Figure size 864x432 with 1 Axes>"
      ]
     },
     "metadata": {
      "needs_background": "light"
     },
     "output_type": "display_data"
    },
    {
     "name": "stdout",
     "output_type": "stream",
     "text": [
      "\n",
      "Starting Color Advantage Analysis:\n",
      "DQN vs Random: RED advantage = 56.00%\n",
      "DQN vs MCTS: RED advantage = 72.00%\n",
      "MCTS vs Random: RED advantage = 2.00%\n",
      "AlphaZero vs Random: RED advantage = 20.00%\n",
      "AlphaZero vs MCTS: RED advantage = 30.00%\n",
      "AlphaZero vs DQN: RED advantage = 66.00%\n"
     ]
    }
   ],
   "source": [
    "# Dictionaries to store results by starting color\n",
    "red_results = {\n",
    "    'DQN vs Random': dqn_vs_random,\n",
    "    'DQN vs MCTS': dqn_vs_mcts,\n",
    "    'MCTS vs Random': mcts_vs_random,\n",
    "    'AlphaZero vs Random': az_vs_random,\n",
    "    'AlphaZero vs MCTS': az_vs_mcts,\n",
    "    'AlphaZero vs DQN': az_vs_dqn\n",
    "}\n",
    "\n",
    "yellow_results = {\n",
    "    'Random vs DQN': random_vs_dqn,\n",
    "    'MCTS vs DQN': mcts_vs_dqn,\n",
    "    'Random vs MCTS': random_vs_mcts,\n",
    "    'Random vs AlphaZero': random_vs_az,\n",
    "    'MCTS vs AlphaZero': mcts_vs_az,\n",
    "    'DQN vs AlphaZero': dqn_vs_az\n",
    "}\n",
    "\n",
    "\n",
    "# Matchup pairs for analysis\n",
    "matchup_pairs = [\n",
    "    ('DQN vs Random', 'Random vs DQN'),\n",
    "    ('DQN vs MCTS', 'MCTS vs DQN'),\n",
    "    ('MCTS vs Random', 'Random vs MCTS'),\n",
    "    ('AlphaZero vs Random', 'Random vs AlphaZero'),\n",
    "    ('AlphaZero vs MCTS', 'MCTS vs AlphaZero'),\n",
    "    ('AlphaZero vs DQN', 'DQN vs AlphaZero')\n",
    "]\n",
    "\n",
    "\n",
    "# Plot win rates by starting color\n",
    "plt.figure(figsize=(12, 6))\n",
    "\n",
    "matchups = [pair[0] for pair in matchup_pairs]\n",
    "red_win_rates = [red_results[pair[0]]['win_rate'] for pair in matchup_pairs]\n",
    "yellow_win_rates = [1 - yellow_results[pair[1]]['win_rate'] for pair in matchup_pairs]  # Invert for same perspective\n",
    "\n",
    "x = np.arange(len(matchups))\n",
    "width = 0.35\n",
    "\n",
    "plt.bar(x - width/2, red_win_rates, width, label='Starting as RED')\n",
    "plt.bar(x + width/2, yellow_win_rates, width, label='Starting as YELLOW')\n",
    "\n",
    "plt.xlabel('Matchup')\n",
    "plt.ylabel('Win Rate')\n",
    "plt.title('Win Rates by Starting Color (Including AlphaZero)')\n",
    "plt.xticks(x, matchups, rotation=20)\n",
    "plt.legend()\n",
    "plt.grid(True, axis='y')\n",
    "\n",
    "for i, v in enumerate(red_win_rates):\n",
    "    plt.text(i - width/2, v + 0.02, f'{v:.2%}', ha='center')\n",
    "for i, v in enumerate(yellow_win_rates):\n",
    "    plt.text(i + width/2, v + 0.02, f'{v:.2%}', ha='center')\n",
    "\n",
    "plt.tight_layout()\n",
    "plt.show()\n",
    "\n",
    "print(\"\\nStarting Color Advantage Analysis:\")\n",
    "for (red_matchup, yellow_matchup) in matchup_pairs:\n",
    "    red_win = red_results[red_matchup]['win_rate']\n",
    "    yellow_win = 1 - yellow_results[yellow_matchup]['win_rate']  # Invert to get same perspective\n",
    "    advantage = red_win - yellow_win\n",
    "    print(f\"{red_matchup}: RED advantage = {advantage:.2%}\")\n"
   ]
  },
  {
   "cell_type": "code",
   "execution_count": null,
   "metadata": {},
   "outputs": [
    {
     "data": {
      "image/png": "[encoded data removed]",
      "text/plain": [
       "<Figure size 1008x504 with 1 Axes>"
      ]
     },
     "metadata": {
      "needs_background": "light"
     },
     "output_type": "display_data"
    }
   ],
   "source": [
    "# Create a structured dataset from evaluation results\n",
    "results = {\n",
    "    \"Agent\": [\n",
    "        \"DQN vs Random\", \"Random vs DQN\", \n",
    "        \"DQN vs MCTS\", \"MCTS vs DQN\",\n",
    "        \"MCTS vs Random\", \"Random vs MCTS\",\n",
    "        \"AlphaZero vs Random\", \"Random vs AlphaZero\",\n",
    "        \"AlphaZero vs MCTS\", \"MCTS vs AlphaZero\",\n",
    "        \"AlphaZero vs DQN\", \"DQN vs AlphaZero\"\n",
    "    ],\n",
    "    \"Wins\": [\n",
    "        dqn_vs_random['wins'], random_vs_dqn['wins'],\n",
    "        dqn_vs_mcts['wins'], mcts_vs_dqn['wins'],\n",
    "        mcts_vs_random['wins'], random_vs_mcts['wins'],\n",
    "        az_vs_random['wins'], random_vs_az['wins'],\n",
    "        az_vs_mcts['wins'], mcts_vs_az['wins'],\n",
    "        az_vs_dqn['wins'], dqn_vs_az['wins']\n",
    "    ],\n",
    "    \"Losses\": [\n",
    "        dqn_vs_random['losses'], random_vs_dqn['losses'],\n",
    "        dqn_vs_mcts['losses'], mcts_vs_dqn['losses'],\n",
    "        mcts_vs_random['losses'], random_vs_mcts['losses'],\n",
    "        az_vs_random['losses'], random_vs_az['losses'],\n",
    "        az_vs_mcts['losses'], mcts_vs_az['losses'],\n",
    "        az_vs_dqn['losses'], dqn_vs_az['losses']\n",
    "    ],\n",
    "    \"Draws\": [\n",
    "        dqn_vs_random['draws'], random_vs_dqn['draws'],\n",
    "        dqn_vs_mcts['draws'], mcts_vs_dqn['draws'],\n",
    "        mcts_vs_random['draws'], random_vs_mcts['draws'],\n",
    "        az_vs_random['draws'], random_vs_az['draws'],\n",
    "        az_vs_mcts['draws'], mcts_vs_az['draws'],\n",
    "        az_vs_dqn['draws'], dqn_vs_az['draws']\n",
    "    ]\n",
    "}\n",
    "\n",
    "# Visualization of game outcome distribution (wins, losses, draws)\n",
    "plt.figure(figsize=(14, 7))\n",
    "\n",
    "agents = results[\"Agent\"]\n",
    "wins = results[\"Wins\"]\n",
    "losses = results[\"Losses\"]\n",
    "draws = results[\"Draws\"]\n",
    "\n",
    "x = np.arange(len(agents))  \n",
    "width = 0.25  \n",
    "\n",
    "plt.bar(x - width, wins, width, label='Wins', color='green')\n",
    "plt.bar(x, losses, width, label='Losses', color='red')\n",
    "plt.bar(x + width, draws, width, label='Draws', color='gray')\n",
    "\n",
    "plt.xlabel('Matchups')\n",
    "plt.ylabel('Number of Games')\n",
    "plt.title('Game Outcome Distribution by Agent Matchup (Including AlphaZero)')\n",
    "plt.xticks(x, agents, rotation=30, ha='right')\n",
    "plt.legend()\n",
    "\n",
    "for i, v in enumerate(wins):\n",
    "    plt.text(i - width, v + 0.5, str(v), ha='center', va='bottom')\n",
    "for i, v in enumerate(losses):\n",
    "    plt.text(i, v + 0.5, str(v), ha='center', va='bottom')\n",
    "for i, v in enumerate(draws):\n",
    "    plt.text(i + width, v + 0.5, str(v), ha='center', va='bottom')\n",
    "\n",
    "plt.tight_layout()\n",
    "plt.grid(axis='y', linestyle='--', alpha=0.3)\n",
    "plt.show()\n",
    "\n"
   ]
  },
  {
   "cell_type": "code",
   "execution_count": null,
   "metadata": {},
   "outputs": [
    {
     "name": "stdout",
     "output_type": "stream",
     "text": [
      "Measuring agent decision times...\n"
     ]
    },
    {
     "name": "stderr",
     "output_type": "stream",
     "text": [
      "Measuring Connect4_Random performance: 100%|██████████| 100/100 [00:00<00:00, 3442.92it/s]\n"
     ]
    },
    {
     "name": "stdout",
     "output_type": "stream",
     "text": [
      "DEBUG: Connect4_Random chose action = 3, Type = <class 'int'>\n",
      "DEBUG: Connect4_Random chose action = 3, Type = <class 'int'>\n",
      "DEBUG: Connect4_Random chose action = 0, Type = <class 'int'>\n",
      "DEBUG: Connect4_Random chose action = 2, Type = <class 'int'>\n",
      "DEBUG: Connect4_Random chose action = 4, Type = <class 'int'>\n",
      "DEBUG: Connect4_Random chose action = 4, Type = <class 'int'>\n",
      "DEBUG: Connect4_Random chose action = 4, Type = <class 'int'>\n",
      "DEBUG: Connect4_Random chose action = 0, Type = <class 'int'>\n",
      "DEBUG: Connect4_Random chose action = 1, Type = <class 'int'>\n",
      "DEBUG: Connect4_Random chose action = 2, Type = <class 'int'>\n",
      "DEBUG: Connect4_Random chose action = 4, Type = <class 'int'>\n",
      "DEBUG: Connect4_Random chose action = 5, Type = <class 'int'>\n",
      "DEBUG: Connect4_Random chose action = 6, Type = <class 'int'>\n",
      "DEBUG: Connect4_Random chose action = 4, Type = <class 'int'>\n",
      "DEBUG: Connect4_Random chose action = 6, Type = <class 'int'>\n",
      "DEBUG: Connect4_Random chose action = 6, Type = <class 'int'>\n",
      "DEBUG: Connect4_Random chose action = 5, Type = <class 'int'>\n",
      "DEBUG: Connect4_Random chose action = 3, Type = <class 'int'>\n",
      "DEBUG: Connect4_Random chose action = 1, Type = <class 'int'>\n",
      "DEBUG: Connect4_Random chose action = 3, Type = <class 'int'>\n",
      "DEBUG: Connect4_Random chose action = 3, Type = <class 'int'>\n",
      "DEBUG: Connect4_Random chose action = 0, Type = <class 'int'>\n",
      "DEBUG: Connect4_Random chose action = 6, Type = <class 'int'>\n",
      "DEBUG: Connect4_Random chose action = 6, Type = <class 'int'>\n",
      "DEBUG: Connect4_Random chose action = 5, Type = <class 'int'>\n",
      "DEBUG: Connect4_Random chose action = 2, Type = <class 'int'>\n",
      "DEBUG: Connect4_Random chose action = 0, Type = <class 'int'>\n",
      "DEBUG: Connect4_Random chose action = 5, Type = <class 'int'>\n",
      "DEBUG: Connect4_Random chose action = 1, Type = <class 'int'>\n",
      "DEBUG: Connect4_Random chose action = 6, Type = <class 'int'>\n",
      "DEBUG: Connect4_Random chose action = 0, Type = <class 'int'>\n",
      "DEBUG: Connect4_Random chose action = 0, Type = <class 'int'>\n",
      "DEBUG: Connect4_Random chose action = 4, Type = <class 'int'>\n",
      "DEBUG: Connect4_Random chose action = 6, Type = <class 'int'>\n",
      "DEBUG: Connect4_Random chose action = 3, Type = <class 'int'>\n",
      "DEBUG: Connect4_Random chose action = 4, Type = <class 'int'>\n",
      "DEBUG: Connect4_Random chose action = 5, Type = <class 'int'>\n",
      "DEBUG: Connect4_Random chose action = 4, Type = <class 'int'>\n",
      "DEBUG: Connect4_Random chose action = 1, Type = <class 'int'>\n",
      "DEBUG: Connect4_Random chose action = 5, Type = <class 'int'>\n",
      "DEBUG: Connect4_Random chose action = 6, Type = <class 'int'>\n",
      "DEBUG: Connect4_Random chose action = 0, Type = <class 'int'>\n",
      "DEBUG: Connect4_Random chose action = 6, Type = <class 'int'>\n",
      "DEBUG: Connect4_Random chose action = 3, Type = <class 'int'>\n",
      "DEBUG: Connect4_Random chose action = 0, Type = <class 'int'>\n",
      "DEBUG: Connect4_Random chose action = 5, Type = <class 'int'>\n",
      "DEBUG: Connect4_Random chose action = 2, Type = <class 'int'>\n",
      "DEBUG: Connect4_Random chose action = 0, Type = <class 'int'>\n",
      "DEBUG: Connect4_Random chose action = 5, Type = <class 'int'>\n",
      "DEBUG: Connect4_Random chose action = 4, Type = <class 'int'>\n",
      "DEBUG: Connect4_Random chose action = 2, Type = <class 'int'>\n",
      "DEBUG: Connect4_Random chose action = 5, Type = <class 'int'>\n",
      "DEBUG: Connect4_Random chose action = 1, Type = <class 'int'>\n",
      "DEBUG: Connect4_Random chose action = 3, Type = <class 'int'>\n",
      "DEBUG: Connect4_Random chose action = 4, Type = <class 'int'>\n",
      "DEBUG: Connect4_Random chose action = 6, Type = <class 'int'>\n",
      "DEBUG: Connect4_Random chose action = 2, Type = <class 'int'>\n",
      "DEBUG: Connect4_Random chose action = 1, Type = <class 'int'>\n",
      "DEBUG: Connect4_Random chose action = 0, Type = <class 'int'>\n",
      "DEBUG: Connect4_Random chose action = 3, Type = <class 'int'>\n",
      "DEBUG: Connect4_Random chose action = 1, Type = <class 'int'>\n",
      "DEBUG: Connect4_Random chose action = 4, Type = <class 'int'>\n",
      "DEBUG: Connect4_Random chose action = 3, Type = <class 'int'>\n",
      "DEBUG: Connect4_Random chose action = 3, Type = <class 'int'>\n",
      "DEBUG: Connect4_Random chose action = 6, Type = <class 'int'>\n",
      "DEBUG: Connect4_Random chose action = 6, Type = <class 'int'>\n",
      "DEBUG: Connect4_Random chose action = 2, Type = <class 'int'>\n",
      "DEBUG: Connect4_Random chose action = 3, Type = <class 'int'>\n",
      "DEBUG: Connect4_Random chose action = 1, Type = <class 'int'>\n",
      "DEBUG: Connect4_Random chose action = 0, Type = <class 'int'>\n",
      "DEBUG: Connect4_Random chose action = 2, Type = <class 'int'>\n",
      "DEBUG: Connect4_Random chose action = 0, Type = <class 'int'>\n",
      "DEBUG: Connect4_Random chose action = 6, Type = <class 'int'>\n",
      "DEBUG: Connect4_Random chose action = 3, Type = <class 'int'>\n",
      "DEBUG: Connect4_Random chose action = 2, Type = <class 'int'>\n",
      "DEBUG: Connect4_Random chose action = 1, Type = <class 'int'>\n",
      "DEBUG: Connect4_Random chose action = 0, Type = <class 'int'>\n",
      "DEBUG: Connect4_Random chose action = 5, Type = <class 'int'>\n",
      "DEBUG: Connect4_Random chose action = 2, Type = <class 'int'>\n",
      "DEBUG: Connect4_Random chose action = 2, Type = <class 'int'>\n",
      "DEBUG: Connect4_Random chose action = 3, Type = <class 'int'>\n",
      "DEBUG: Connect4_Random chose action = 0, Type = <class 'int'>\n",
      "DEBUG: Connect4_Random chose action = 3, Type = <class 'int'>\n",
      "DEBUG: Connect4_Random chose action = 3, Type = <class 'int'>\n",
      "DEBUG: Connect4_Random chose action = 0, Type = <class 'int'>\n",
      "DEBUG: Connect4_Random chose action = 6, Type = <class 'int'>\n",
      "DEBUG: Connect4_Random chose action = 0, Type = <class 'int'>\n",
      "DEBUG: Connect4_Random chose action = 2, Type = <class 'int'>\n",
      "DEBUG: Connect4_Random chose action = 0, Type = <class 'int'>\n",
      "DEBUG: Connect4_Random chose action = 6, Type = <class 'int'>\n",
      "DEBUG: Connect4_Random chose action = 1, Type = <class 'int'>\n",
      "DEBUG: Connect4_Random chose action = 4, Type = <class 'int'>\n",
      "DEBUG: Connect4_Random chose action = 0, Type = <class 'int'>\n",
      "DEBUG: Connect4_Random chose action = 3, Type = <class 'int'>\n",
      "DEBUG: Connect4_Random chose action = 3, Type = <class 'int'>\n",
      "DEBUG: Connect4_Random chose action = 6, Type = <class 'int'>\n",
      "DEBUG: Connect4_Random chose action = 2, Type = <class 'int'>\n",
      "DEBUG: Connect4_Random chose action = 4, Type = <class 'int'>\n",
      "DEBUG: Connect4_Random chose action = 4, Type = <class 'int'>\n",
      "DEBUG: Connect4_Random chose action = 3, Type = <class 'int'>\n"
     ]
    },
    {
     "name": "stderr",
     "output_type": "stream",
     "text": [
      "Measuring Connect4_MCTS_100 performance:   2%|▏         | 1/50 [00:00<00:07,  6.67it/s]"
     ]
    },
    {
     "name": "stdout",
     "output_type": "stream",
     "text": [
      "DEBUG: Connect4_MCTS_100 chose action = 2, Type = <class 'int'>\n"
     ]
    },
    {
     "name": "stderr",
     "output_type": "stream",
     "text": [
      "Measuring Connect4_MCTS_100 performance:   4%|▍         | 2/50 [00:00<00:07,  6.77it/s]"
     ]
    },
    {
     "name": "stdout",
     "output_type": "stream",
     "text": [
      "DEBUG: Connect4_MCTS_100 chose action = 1, Type = <class 'int'>\n"
     ]
    },
    {
     "name": "stderr",
     "output_type": "stream",
     "text": [
      "Measuring Connect4_MCTS_100 performance:   6%|▌         | 3/50 [00:00<00:06,  6.98it/s]"
     ]
    },
    {
     "name": "stdout",
     "output_type": "stream",
     "text": [
      "DEBUG: Connect4_MCTS_100 chose action = 6, Type = <class 'int'>\n"
     ]
    },
    {
     "name": "stderr",
     "output_type": "stream",
     "text": [
      "Measuring Connect4_MCTS_100 performance:   8%|▊         | 4/50 [00:00<00:06,  6.88it/s]"
     ]
    },
    {
     "name": "stdout",
     "output_type": "stream",
     "text": [
      "DEBUG: Connect4_MCTS_100 chose action = 6, Type = <class 'int'>\n"
     ]
    },
    {
     "name": "stderr",
     "output_type": "stream",
     "text": [
      "Measuring Connect4_MCTS_100 performance:  10%|█         | 5/50 [00:00<00:06,  7.02it/s]"
     ]
    },
    {
     "name": "stdout",
     "output_type": "stream",
     "text": [
      "DEBUG: Connect4_MCTS_100 chose action = 0, Type = <class 'int'>\n"
     ]
    },
    {
     "name": "stderr",
     "output_type": "stream",
     "text": [
      "Measuring Connect4_MCTS_100 performance:  12%|█▏        | 6/50 [00:00<00:06,  6.32it/s]"
     ]
    },
    {
     "name": "stdout",
     "output_type": "stream",
     "text": [
      "DEBUG: Connect4_MCTS_100 chose action = 1, Type = <class 'int'>\n"
     ]
    },
    {
     "name": "stderr",
     "output_type": "stream",
     "text": [
      "Measuring Connect4_MCTS_100 performance:  14%|█▍        | 7/50 [00:01<00:06,  6.46it/s]"
     ]
    },
    {
     "name": "stdout",
     "output_type": "stream",
     "text": [
      "DEBUG: Connect4_MCTS_100 chose action = 6, Type = <class 'int'>\n"
     ]
    },
    {
     "name": "stderr",
     "output_type": "stream",
     "text": [
      "Measuring Connect4_MCTS_100 performance:  16%|█▌        | 8/50 [00:01<00:06,  6.81it/s]"
     ]
    },
    {
     "name": "stdout",
     "output_type": "stream",
     "text": [
      "DEBUG: Connect4_MCTS_100 chose action = 4, Type = <class 'int'>\n"
     ]
    },
    {
     "name": "stderr",
     "output_type": "stream",
     "text": [
      "Measuring Connect4_MCTS_100 performance:  18%|█▊        | 9/50 [00:01<00:05,  7.16it/s]"
     ]
    },
    {
     "name": "stdout",
     "output_type": "stream",
     "text": [
      "DEBUG: Connect4_MCTS_100 chose action = 3, Type = <class 'int'>\n"
     ]
    },
    {
     "name": "stderr",
     "output_type": "stream",
     "text": [
      "Measuring Connect4_MCTS_100 performance:  20%|██        | 10/50 [00:01<00:05,  7.42it/s]"
     ]
    },
    {
     "name": "stdout",
     "output_type": "stream",
     "text": [
      "DEBUG: Connect4_MCTS_100 chose action = 6, Type = <class 'int'>\n"
     ]
    },
    {
     "name": "stderr",
     "output_type": "stream",
     "text": [
      "Measuring Connect4_MCTS_100 performance:  22%|██▏       | 11/50 [00:01<00:05,  7.08it/s]"
     ]
    },
    {
     "name": "stdout",
     "output_type": "stream",
     "text": [
      "DEBUG: Connect4_MCTS_100 chose action = 3, Type = <class 'int'>\n"
     ]
    },
    {
     "name": "stderr",
     "output_type": "stream",
     "text": [
      "Measuring Connect4_MCTS_100 performance:  24%|██▍       | 12/50 [00:01<00:05,  6.95it/s]"
     ]
    },
    {
     "name": "stdout",
     "output_type": "stream",
     "text": [
      "DEBUG: Connect4_MCTS_100 chose action = 0, Type = <class 'int'>\n"
     ]
    },
    {
     "name": "stderr",
     "output_type": "stream",
     "text": [
      "Measuring Connect4_MCTS_100 performance:  26%|██▌       | 13/50 [00:01<00:05,  6.90it/s]"
     ]
    },
    {
     "name": "stdout",
     "output_type": "stream",
     "text": [
      "DEBUG: Connect4_MCTS_100 chose action = 3, Type = <class 'int'>\n"
     ]
    },
    {
     "name": "stderr",
     "output_type": "stream",
     "text": [
      "Measuring Connect4_MCTS_100 performance:  28%|██▊       | 14/50 [00:02<00:05,  7.10it/s]"
     ]
    },
    {
     "name": "stdout",
     "output_type": "stream",
     "text": [
      "DEBUG: Connect4_MCTS_100 chose action = 3, Type = <class 'int'>\n"
     ]
    },
    {
     "name": "stderr",
     "output_type": "stream",
     "text": [
      "Measuring Connect4_MCTS_100 performance:  30%|███       | 15/50 [00:02<00:04,  7.33it/s]"
     ]
    },
    {
     "name": "stdout",
     "output_type": "stream",
     "text": [
      "DEBUG: Connect4_MCTS_100 chose action = 4, Type = <class 'int'>\n"
     ]
    },
    {
     "name": "stderr",
     "output_type": "stream",
     "text": [
      "Measuring Connect4_MCTS_100 performance:  32%|███▏      | 16/50 [00:02<00:04,  7.72it/s]"
     ]
    },
    {
     "name": "stdout",
     "output_type": "stream",
     "text": [
      "DEBUG: Connect4_MCTS_100 chose action = 0, Type = <class 'int'>\n"
     ]
    },
    {
     "name": "stderr",
     "output_type": "stream",
     "text": [
      "Measuring Connect4_MCTS_100 performance:  34%|███▍      | 17/50 [00:02<00:04,  8.03it/s]"
     ]
    },
    {
     "name": "stdout",
     "output_type": "stream",
     "text": [
      "DEBUG: Connect4_MCTS_100 chose action = 5, Type = <class 'int'>\n"
     ]
    },
    {
     "name": "stderr",
     "output_type": "stream",
     "text": [
      "Measuring Connect4_MCTS_100 performance:  38%|███▊      | 19/50 [00:02<00:03,  9.33it/s]"
     ]
    },
    {
     "name": "stdout",
     "output_type": "stream",
     "text": [
      "DEBUG: Connect4_MCTS_100 chose action = 3, Type = <class 'int'>\n",
      "DEBUG: Connect4_MCTS_100 chose action = 6, Type = <class 'int'>\n"
     ]
    },
    {
     "name": "stderr",
     "output_type": "stream",
     "text": [
      "Measuring Connect4_MCTS_100 performance:  42%|████▏     | 21/50 [00:02<00:03,  8.17it/s]"
     ]
    },
    {
     "name": "stdout",
     "output_type": "stream",
     "text": [
      "DEBUG: Connect4_MCTS_100 chose action = 6, Type = <class 'int'>\n",
      "DEBUG: Connect4_MCTS_100 chose action = 3, Type = <class 'int'>\n"
     ]
    },
    {
     "name": "stderr",
     "output_type": "stream",
     "text": [
      "Measuring Connect4_MCTS_100 performance:  46%|████▌     | 23/50 [00:03<00:03,  7.88it/s]"
     ]
    },
    {
     "name": "stdout",
     "output_type": "stream",
     "text": [
      "DEBUG: Connect4_MCTS_100 chose action = 6, Type = <class 'int'>\n",
      "DEBUG: Connect4_MCTS_100 chose action = 4, Type = <class 'int'>\n"
     ]
    },
    {
     "name": "stderr",
     "output_type": "stream",
     "text": [
      "Measuring Connect4_MCTS_100 performance:  50%|█████     | 25/50 [00:03<00:03,  7.92it/s]"
     ]
    },
    {
     "name": "stdout",
     "output_type": "stream",
     "text": [
      "DEBUG: Connect4_MCTS_100 chose action = 1, Type = <class 'int'>\n",
      "DEBUG: Connect4_MCTS_100 chose action = 5, Type = <class 'int'>\n"
     ]
    },
    {
     "name": "stderr",
     "output_type": "stream",
     "text": [
      "Measuring Connect4_MCTS_100 performance:  54%|█████▍    | 27/50 [00:03<00:02,  8.31it/s]"
     ]
    },
    {
     "name": "stdout",
     "output_type": "stream",
     "text": [
      "DEBUG: Connect4_MCTS_100 chose action = 1, Type = <class 'int'>\n",
      "DEBUG: Connect4_MCTS_100 chose action = 2, Type = <class 'int'>\n"
     ]
    },
    {
     "name": "stderr",
     "output_type": "stream",
     "text": [
      "Measuring Connect4_MCTS_100 performance:  58%|█████▊    | 29/50 [00:03<00:02,  7.56it/s]"
     ]
    },
    {
     "name": "stdout",
     "output_type": "stream",
     "text": [
      "DEBUG: Connect4_MCTS_100 chose action = 2, Type = <class 'int'>\n",
      "DEBUG: Connect4_MCTS_100 chose action = 5, Type = <class 'int'>\n"
     ]
    },
    {
     "name": "stderr",
     "output_type": "stream",
     "text": [
      "Measuring Connect4_MCTS_100 performance:  62%|██████▏   | 31/50 [00:04<00:02,  7.30it/s]"
     ]
    },
    {
     "name": "stdout",
     "output_type": "stream",
     "text": [
      "DEBUG: Connect4_MCTS_100 chose action = 3, Type = <class 'int'>\n",
      "DEBUG: Connect4_MCTS_100 chose action = 2, Type = <class 'int'>\n"
     ]
    },
    {
     "name": "stderr",
     "output_type": "stream",
     "text": [
      "Measuring Connect4_MCTS_100 performance:  66%|██████▌   | 33/50 [00:04<00:02,  7.09it/s]"
     ]
    },
    {
     "name": "stdout",
     "output_type": "stream",
     "text": [
      "DEBUG: Connect4_MCTS_100 chose action = 4, Type = <class 'int'>\n",
      "DEBUG: Connect4_MCTS_100 chose action = 6, Type = <class 'int'>\n"
     ]
    },
    {
     "name": "stderr",
     "output_type": "stream",
     "text": [
      "Measuring Connect4_MCTS_100 performance:  70%|███████   | 35/50 [00:04<00:02,  7.14it/s]"
     ]
    },
    {
     "name": "stdout",
     "output_type": "stream",
     "text": [
      "DEBUG: Connect4_MCTS_100 chose action = 2, Type = <class 'int'>\n",
      "DEBUG: Connect4_MCTS_100 chose action = 4, Type = <class 'int'>\n"
     ]
    },
    {
     "name": "stderr",
     "output_type": "stream",
     "text": [
      "Measuring Connect4_MCTS_100 performance:  74%|███████▍  | 37/50 [00:04<00:01,  7.27it/s]"
     ]
    },
    {
     "name": "stdout",
     "output_type": "stream",
     "text": [
      "DEBUG: Connect4_MCTS_100 chose action = 2, Type = <class 'int'>\n",
      "DEBUG: Connect4_MCTS_100 chose action = 6, Type = <class 'int'>\n"
     ]
    },
    {
     "name": "stderr",
     "output_type": "stream",
     "text": [
      "Measuring Connect4_MCTS_100 performance:  78%|███████▊  | 39/50 [00:05<00:01,  7.65it/s]"
     ]
    },
    {
     "name": "stdout",
     "output_type": "stream",
     "text": [
      "DEBUG: Connect4_MCTS_100 chose action = 5, Type = <class 'int'>\n",
      "DEBUG: Connect4_MCTS_100 chose action = 3, Type = <class 'int'>\n"
     ]
    },
    {
     "name": "stderr",
     "output_type": "stream",
     "text": [
      "Measuring Connect4_MCTS_100 performance:  82%|████████▏ | 41/50 [00:05<00:01,  7.68it/s]"
     ]
    },
    {
     "name": "stdout",
     "output_type": "stream",
     "text": [
      "DEBUG: Connect4_MCTS_100 chose action = 4, Type = <class 'int'>\n",
      "DEBUG: Connect4_MCTS_100 chose action = 1, Type = <class 'int'>\n"
     ]
    },
    {
     "name": "stderr",
     "output_type": "stream",
     "text": [
      "Measuring Connect4_MCTS_100 performance:  86%|████████▌ | 43/50 [00:05<00:00,  7.07it/s]"
     ]
    },
    {
     "name": "stdout",
     "output_type": "stream",
     "text": [
      "DEBUG: Connect4_MCTS_100 chose action = 3, Type = <class 'int'>\n",
      "DEBUG: Connect4_MCTS_100 chose action = 3, Type = <class 'int'>\n"
     ]
    },
    {
     "name": "stderr",
     "output_type": "stream",
     "text": [
      "Measuring Connect4_MCTS_100 performance:  90%|█████████ | 45/50 [00:06<00:00,  6.96it/s]"
     ]
    },
    {
     "name": "stdout",
     "output_type": "stream",
     "text": [
      "DEBUG: Connect4_MCTS_100 chose action = 0, Type = <class 'int'>\n",
      "DEBUG: Connect4_MCTS_100 chose action = 0, Type = <class 'int'>\n"
     ]
    },
    {
     "name": "stderr",
     "output_type": "stream",
     "text": [
      "Measuring Connect4_MCTS_100 performance:  94%|█████████▍| 47/50 [00:06<00:00,  7.05it/s]"
     ]
    },
    {
     "name": "stdout",
     "output_type": "stream",
     "text": [
      "DEBUG: Connect4_MCTS_100 chose action = 6, Type = <class 'int'>\n",
      "DEBUG: Connect4_MCTS_100 chose action = 3, Type = <class 'int'>\n"
     ]
    },
    {
     "name": "stderr",
     "output_type": "stream",
     "text": [
      "Measuring Connect4_MCTS_100 performance:  98%|█████████▊| 49/50 [00:06<00:00,  7.53it/s]"
     ]
    },
    {
     "name": "stdout",
     "output_type": "stream",
     "text": [
      "DEBUG: Connect4_MCTS_100 chose action = 6, Type = <class 'int'>\n",
      "DEBUG: Connect4_MCTS_100 chose action = 4, Type = <class 'int'>\n"
     ]
    },
    {
     "name": "stderr",
     "output_type": "stream",
     "text": [
      "Measuring Connect4_MCTS_100 performance: 100%|██████████| 50/50 [00:06<00:00,  7.41it/s]\n"
     ]
    },
    {
     "name": "stdout",
     "output_type": "stream",
     "text": [
      "DEBUG: Connect4_MCTS_100 chose action = 5, Type = <class 'int'>\n"
     ]
    },
    {
     "name": "stderr",
     "output_type": "stream",
     "text": [
      "Measuring Connect4_MCTS_200 performance:   5%|▌         | 1/20 [00:00<00:06,  3.01it/s]"
     ]
    },
    {
     "name": "stdout",
     "output_type": "stream",
     "text": [
      "DEBUG: Connect4_MCTS_200 chose action = 6, Type = <class 'int'>\n"
     ]
    },
    {
     "name": "stderr",
     "output_type": "stream",
     "text": [
      "Measuring Connect4_MCTS_200 performance:  10%|█         | 2/20 [00:00<00:05,  3.15it/s]"
     ]
    },
    {
     "name": "stdout",
     "output_type": "stream",
     "text": [
      "DEBUG: Connect4_MCTS_200 chose action = 4, Type = <class 'int'>\n"
     ]
    },
    {
     "name": "stderr",
     "output_type": "stream",
     "text": [
      "Measuring Connect4_MCTS_200 performance:  15%|█▌        | 3/20 [00:03<00:23,  1.36s/it]"
     ]
    },
    {
     "name": "stdout",
     "output_type": "stream",
     "text": [
      "DEBUG: Connect4_MCTS_200 chose action = 1, Type = <class 'int'>\n"
     ]
    },
    {
     "name": "stderr",
     "output_type": "stream",
     "text": [
      "Measuring Connect4_MCTS_200 performance:  20%|██        | 4/20 [00:03<00:14,  1.08it/s]"
     ]
    },
    {
     "name": "stdout",
     "output_type": "stream",
     "text": [
      "DEBUG: Connect4_MCTS_200 chose action = 2, Type = <class 'int'>\n"
     ]
    },
    {
     "name": "stderr",
     "output_type": "stream",
     "text": [
      "Measuring Connect4_MCTS_200 performance:  25%|██▌       | 5/20 [00:03<00:10,  1.44it/s]"
     ]
    },
    {
     "name": "stdout",
     "output_type": "stream",
     "text": [
      "DEBUG: Connect4_MCTS_200 chose action = 1, Type = <class 'int'>\n"
     ]
    },
    {
     "name": "stderr",
     "output_type": "stream",
     "text": [
      "Measuring Connect4_MCTS_200 performance:  30%|███       | 6/20 [00:04<00:07,  1.85it/s]"
     ]
    },
    {
     "name": "stdout",
     "output_type": "stream",
     "text": [
      "DEBUG: Connect4_MCTS_200 chose action = 3, Type = <class 'int'>\n"
     ]
    },
    {
     "name": "stderr",
     "output_type": "stream",
     "text": [
      "Measuring Connect4_MCTS_200 performance:  40%|████      | 8/20 [00:04<00:04,  2.82it/s]"
     ]
    },
    {
     "name": "stdout",
     "output_type": "stream",
     "text": [
      "DEBUG: Connect4_MCTS_200 chose action = 2, Type = <class 'int'>\n",
      "DEBUG: Connect4_MCTS_200 chose action = 5, Type = <class 'int'>\n"
     ]
    },
    {
     "name": "stderr",
     "output_type": "stream",
     "text": [
      "Measuring Connect4_MCTS_200 performance:  45%|████▌     | 9/20 [00:04<00:03,  3.04it/s]"
     ]
    },
    {
     "name": "stdout",
     "output_type": "stream",
     "text": [
      "DEBUG: Connect4_MCTS_200 chose action = 5, Type = <class 'int'>\n"
     ]
    },
    {
     "name": "stderr",
     "output_type": "stream",
     "text": [
      "Measuring Connect4_MCTS_200 performance:  50%|█████     | 10/20 [00:04<00:03,  3.23it/s]"
     ]
    },
    {
     "name": "stdout",
     "output_type": "stream",
     "text": [
      "DEBUG: Connect4_MCTS_200 chose action = 1, Type = <class 'int'>\n"
     ]
    },
    {
     "name": "stderr",
     "output_type": "stream",
     "text": [
      "Measuring Connect4_MCTS_200 performance:  55%|█████▌    | 11/20 [00:05<00:02,  3.38it/s]"
     ]
    },
    {
     "name": "stdout",
     "output_type": "stream",
     "text": [
      "DEBUG: Connect4_MCTS_200 chose action = 1, Type = <class 'int'>\n"
     ]
    },
    {
     "name": "stderr",
     "output_type": "stream",
     "text": [
      "Measuring Connect4_MCTS_200 performance:  60%|██████    | 12/20 [00:05<00:02,  3.50it/s]"
     ]
    },
    {
     "name": "stdout",
     "output_type": "stream",
     "text": [
      "DEBUG: Connect4_MCTS_200 chose action = 4, Type = <class 'int'>\n"
     ]
    },
    {
     "name": "stderr",
     "output_type": "stream",
     "text": [
      "Measuring Connect4_MCTS_200 performance:  65%|██████▌   | 13/20 [00:05<00:01,  3.51it/s]"
     ]
    },
    {
     "name": "stdout",
     "output_type": "stream",
     "text": [
      "DEBUG: Connect4_MCTS_200 chose action = 4, Type = <class 'int'>\n"
     ]
    },
    {
     "name": "stderr",
     "output_type": "stream",
     "text": [
      "Measuring Connect4_MCTS_200 performance:  70%|███████   | 14/20 [00:06<00:01,  3.58it/s]"
     ]
    },
    {
     "name": "stdout",
     "output_type": "stream",
     "text": [
      "DEBUG: Connect4_MCTS_200 chose action = 2, Type = <class 'int'>\n"
     ]
    },
    {
     "name": "stderr",
     "output_type": "stream",
     "text": [
      "Measuring Connect4_MCTS_200 performance:  75%|███████▌  | 15/20 [00:06<00:01,  3.60it/s]"
     ]
    },
    {
     "name": "stdout",
     "output_type": "stream",
     "text": [
      "DEBUG: Connect4_MCTS_200 chose action = 1, Type = <class 'int'>\n"
     ]
    },
    {
     "name": "stderr",
     "output_type": "stream",
     "text": [
      "Measuring Connect4_MCTS_200 performance:  80%|████████  | 16/20 [00:06<00:01,  3.61it/s]"
     ]
    },
    {
     "name": "stdout",
     "output_type": "stream",
     "text": [
      "DEBUG: Connect4_MCTS_200 chose action = 3, Type = <class 'int'>\n"
     ]
    },
    {
     "name": "stderr",
     "output_type": "stream",
     "text": [
      "Measuring Connect4_MCTS_200 performance:  90%|█████████ | 18/20 [00:06<00:00,  4.24it/s]"
     ]
    },
    {
     "name": "stdout",
     "output_type": "stream",
     "text": [
      "DEBUG: Connect4_MCTS_200 chose action = 2, Type = <class 'int'>\n",
      "DEBUG: Connect4_MCTS_200 chose action = 5, Type = <class 'int'>\n"
     ]
    },
    {
     "name": "stderr",
     "output_type": "stream",
     "text": [
      "Measuring Connect4_MCTS_200 performance:  95%|█████████▌| 19/20 [00:07<00:00,  3.81it/s]"
     ]
    },
    {
     "name": "stdout",
     "output_type": "stream",
     "text": [
      "DEBUG: Connect4_MCTS_200 chose action = 0, Type = <class 'int'>\n"
     ]
    },
    {
     "name": "stderr",
     "output_type": "stream",
     "text": [
      "Measuring Connect4_MCTS_200 performance: 100%|██████████| 20/20 [00:07<00:00,  2.62it/s]\n"
     ]
    },
    {
     "name": "stdout",
     "output_type": "stream",
     "text": [
      "DEBUG: Connect4_MCTS_200 chose action = 1, Type = <class 'int'>\n"
     ]
    },
    {
     "name": "stderr",
     "output_type": "stream",
     "text": [
      "Measuring Connect4_MCTS_500 performance:  10%|█         | 1/10 [00:00<00:06,  1.32it/s]"
     ]
    },
    {
     "name": "stdout",
     "output_type": "stream",
     "text": [
      "DEBUG: Connect4_MCTS_500 chose action = 4, Type = <class 'int'>\n"
     ]
    },
    {
     "name": "stderr",
     "output_type": "stream",
     "text": [
      "Measuring Connect4_MCTS_500 performance:  20%|██        | 2/10 [00:01<00:06,  1.28it/s]"
     ]
    },
    {
     "name": "stdout",
     "output_type": "stream",
     "text": [
      "DEBUG: Connect4_MCTS_500 chose action = 2, Type = <class 'int'>\n"
     ]
    },
    {
     "name": "stderr",
     "output_type": "stream",
     "text": [
      "Measuring Connect4_MCTS_500 performance:  30%|███       | 3/10 [00:02<00:05,  1.26it/s]"
     ]
    },
    {
     "name": "stdout",
     "output_type": "stream",
     "text": [
      "DEBUG: Connect4_MCTS_500 chose action = 0, Type = <class 'int'>\n"
     ]
    },
    {
     "name": "stderr",
     "output_type": "stream",
     "text": [
      "Measuring Connect4_MCTS_500 performance:  40%|████      | 4/10 [00:03<00:04,  1.25it/s]"
     ]
    },
    {
     "name": "stdout",
     "output_type": "stream",
     "text": [
      "DEBUG: Connect4_MCTS_500 chose action = 1, Type = <class 'int'>\n"
     ]
    },
    {
     "name": "stderr",
     "output_type": "stream",
     "text": [
      "Measuring Connect4_MCTS_500 performance:  50%|█████     | 5/10 [00:03<00:03,  1.29it/s]"
     ]
    },
    {
     "name": "stdout",
     "output_type": "stream",
     "text": [
      "DEBUG: Connect4_MCTS_500 chose action = 0, Type = <class 'int'>\n"
     ]
    },
    {
     "name": "stderr",
     "output_type": "stream",
     "text": [
      "Measuring Connect4_MCTS_500 performance:  60%|██████    | 6/10 [00:04<00:02,  1.36it/s]"
     ]
    },
    {
     "name": "stdout",
     "output_type": "stream",
     "text": [
      "DEBUG: Connect4_MCTS_500 chose action = 5, Type = <class 'int'>\n"
     ]
    },
    {
     "name": "stderr",
     "output_type": "stream",
     "text": [
      "Measuring Connect4_MCTS_500 performance:  70%|███████   | 7/10 [00:05<00:02,  1.34it/s]"
     ]
    },
    {
     "name": "stdout",
     "output_type": "stream",
     "text": [
      "DEBUG: Connect4_MCTS_500 chose action = 0, Type = <class 'int'>\n"
     ]
    },
    {
     "name": "stderr",
     "output_type": "stream",
     "text": [
      "Measuring Connect4_MCTS_500 performance:  80%|████████  | 8/10 [00:05<00:01,  1.52it/s]"
     ]
    },
    {
     "name": "stdout",
     "output_type": "stream",
     "text": [
      "DEBUG: Connect4_MCTS_500 chose action = 6, Type = <class 'int'>\n"
     ]
    },
    {
     "name": "stderr",
     "output_type": "stream",
     "text": [
      "Measuring Connect4_MCTS_500 performance:  90%|█████████ | 9/10 [00:06<00:00,  1.73it/s]"
     ]
    },
    {
     "name": "stdout",
     "output_type": "stream",
     "text": [
      "DEBUG: Connect4_MCTS_500 chose action = 0, Type = <class 'int'>\n"
     ]
    },
    {
     "name": "stderr",
     "output_type": "stream",
     "text": [
      "Measuring Connect4_MCTS_500 performance: 100%|██████████| 10/10 [00:06<00:00,  1.46it/s]\n"
     ]
    },
    {
     "name": "stdout",
     "output_type": "stream",
     "text": [
      "DEBUG: Connect4_MCTS_500 chose action = 0, Type = <class 'int'>\n"
     ]
    },
    {
     "name": "stderr",
     "output_type": "stream",
     "text": [
      "Measuring Connect4_DQN performance:  43%|████▎     | 43/100 [00:00<00:00, 425.62it/s]"
     ]
    },
    {
     "name": "stdout",
     "output_type": "stream",
     "text": [
      "DEBUG: Connect4_DQN chose action = 3, Type = <class 'int'>\n",
      "DEBUG: Connect4_DQN chose action = 3, Type = <class 'int'>\n",
      "DEBUG: Connect4_DQN chose action = 5, Type = <class 'int'>\n",
      "DEBUG: Connect4_DQN chose action = 3, Type = <class 'int'>\n",
      "DEBUG: Connect4_DQN chose action = 6, Type = <class 'int'>\n",
      "DEBUG: Connect4_DQN chose action = 3, Type = <class 'int'>\n",
      "DEBUG: Connect4_DQN chose action = 3, Type = <class 'int'>\n",
      "DEBUG: Connect4_DQN chose action = 3, Type = <class 'int'>\n",
      "DEBUG: Connect4_DQN chose action = 4, Type = <class 'int'>\n",
      "DEBUG: Connect4_DQN chose action = 3, Type = <class 'int'>\n",
      "DEBUG: Connect4_DQN chose action = 3, Type = <class 'int'>\n",
      "DEBUG: Connect4_DQN chose action = 3, Type = <class 'int'>\n",
      "DEBUG: Connect4_DQN chose action = 5, Type = <class 'int'>\n",
      "DEBUG: Connect4_DQN chose action = 3, Type = <class 'numpy.int64'>\n",
      "DEBUG: Connect4_DQN chose action = 6, Type = <class 'int'>\n",
      "DEBUG: Connect4_DQN chose action = 3, Type = <class 'int'>\n",
      "DEBUG: Connect4_DQN chose action = 3, Type = <class 'int'>\n",
      "DEBUG: Connect4_DQN chose action = 3, Type = <class 'int'>\n",
      "DEBUG: Connect4_DQN chose action = 4, Type = <class 'int'>\n",
      "DEBUG: Connect4_DQN chose action = 3, Type = <class 'int'>\n",
      "DEBUG: Connect4_DQN chose action = 3, Type = <class 'int'>\n",
      "DEBUG: Connect4_DQN chose action = 3, Type = <class 'numpy.int64'>\n",
      "DEBUG: Connect4_DQN chose action = 5, Type = <class 'int'>\n",
      "DEBUG: Connect4_DQN chose action = 3, Type = <class 'int'>\n",
      "DEBUG: Connect4_DQN chose action = 6, Type = <class 'int'>\n",
      "DEBUG: Connect4_DQN chose action = 3, Type = <class 'int'>\n",
      "DEBUG: Connect4_DQN chose action = 3, Type = <class 'int'>\n",
      "DEBUG: Connect4_DQN chose action = 3, Type = <class 'int'>\n",
      "DEBUG: Connect4_DQN chose action = 4, Type = <class 'int'>\n",
      "DEBUG: Connect4_DQN chose action = 3, Type = <class 'int'>\n",
      "DEBUG: Connect4_DQN chose action = 3, Type = <class 'int'>\n",
      "DEBUG: Connect4_DQN chose action = 3, Type = <class 'int'>\n",
      "DEBUG: Connect4_DQN chose action = 5, Type = <class 'int'>\n",
      "DEBUG: Connect4_DQN chose action = 3, Type = <class 'int'>\n",
      "DEBUG: Connect4_DQN chose action = 6, Type = <class 'int'>\n",
      "DEBUG: Connect4_DQN chose action = 3, Type = <class 'int'>\n",
      "DEBUG: Connect4_DQN chose action = 3, Type = <class 'int'>\n",
      "DEBUG: Connect4_DQN chose action = 3, Type = <class 'int'>\n",
      "DEBUG: Connect4_DQN chose action = 4, Type = <class 'int'>\n",
      "DEBUG: Connect4_DQN chose action = 3, Type = <class 'int'>\n",
      "DEBUG: Connect4_DQN chose action = 3, Type = <class 'int'>\n",
      "DEBUG: Connect4_DQN chose action = 3, Type = <class 'int'>\n",
      "DEBUG: Connect4_DQN chose action = 5, Type = <class 'int'>\n",
      "DEBUG: Connect4_DQN chose action = 3, Type = <class 'int'>\n",
      "DEBUG: Connect4_DQN chose action = 6, Type = <class 'int'>\n",
      "DEBUG: Connect4_DQN chose action = 3, Type = <class 'int'>\n",
      "DEBUG: Connect4_DQN chose action = 3, Type = <class 'int'>\n",
      "DEBUG: Connect4_DQN chose action = 3, Type = <class 'int'>\n",
      "DEBUG: Connect4_DQN chose action = 4, Type = <class 'int'>\n",
      "DEBUG: Connect4_DQN chose action = 3, Type = <class 'int'>\n",
      "DEBUG: Connect4_DQN chose action = 3, Type = <class 'int'>\n",
      "DEBUG: Connect4_DQN chose action = 3, Type = <class 'int'>\n",
      "DEBUG: Connect4_DQN chose action = 5, Type = <class 'int'>\n",
      "DEBUG: Connect4_DQN chose action = 3, Type = <class 'int'>\n",
      "DEBUG: Connect4_DQN chose action = 6, Type = <class 'int'>\n",
      "DEBUG: Connect4_DQN chose action = 3, Type = <class 'int'>\n",
      "DEBUG: Connect4_DQN chose action = 3, Type = <class 'int'>\n",
      "DEBUG: Connect4_DQN chose action = 3, Type = <class 'int'>\n",
      "DEBUG: Connect4_DQN chose action = 4, Type = <class 'int'>\n",
      "DEBUG: Connect4_DQN chose action = 3, Type = <class 'int'>\n",
      "DEBUG: Connect4_DQN chose action = 3, Type = <class 'int'>\n",
      "DEBUG: Connect4_DQN chose action = 3, Type = <class 'int'>\n",
      "DEBUG: Connect4_DQN chose action = 5, Type = <class 'int'>\n",
      "DEBUG: Connect4_DQN chose action = 3, Type = <class 'int'>\n",
      "DEBUG: Connect4_DQN chose action = 6, Type = <class 'int'>\n",
      "DEBUG: Connect4_DQN chose action = 3, Type = <class 'int'>\n",
      "DEBUG: Connect4_DQN chose action = 3, Type = <class 'int'>\n",
      "DEBUG: Connect4_DQN chose action = 3, Type = <class 'int'>\n",
      "DEBUG: Connect4_DQN chose action = 4, Type = <class 'int'>\n",
      "DEBUG: Connect4_DQN chose action = 3, Type = <class 'int'>\n",
      "DEBUG: Connect4_DQN chose action = 3, Type = <class 'int'>\n",
      "DEBUG: Connect4_DQN chose action = 3, Type = <class 'int'>\n",
      "DEBUG: Connect4_DQN chose action = 5, Type = <class 'int'>\n",
      "DEBUG: Connect4_DQN chose action = 3, Type = <class 'int'>\n",
      "DEBUG: Connect4_DQN chose action = 6, Type = <class 'int'>\n",
      "DEBUG: Connect4_DQN chose action = 3, Type = <class 'int'>\n",
      "DEBUG: Connect4_DQN chose action = 3, Type = <class 'int'>\n",
      "DEBUG: Connect4_DQN chose action = 3, Type = <class 'int'>\n",
      "DEBUG: Connect4_DQN chose action = 4, Type = <class 'int'>\n",
      "DEBUG: Connect4_DQN chose action = 3, Type = <class 'int'>\n",
      "DEBUG: Connect4_DQN chose action = 3, Type = <class 'int'>\n",
      "DEBUG: Connect4_DQN chose action = 3, Type = <class 'int'>\n",
      "DEBUG: Connect4_DQN chose action = 5, Type = <class 'int'>\n",
      "DEBUG: Connect4_DQN chose action = 3, Type = <class 'int'>\n",
      "DEBUG: Connect4_DQN chose action = 6, Type = <class 'int'>\n",
      "DEBUG: Connect4_DQN chose action = 3, Type = <class 'int'>\n",
      "DEBUG: Connect4_DQN chose action = 3, Type = <class 'int'>\n",
      "DEBUG: Connect4_DQN chose action = 3, Type = <class 'int'>\n",
      "DEBUG: Connect4_DQN chose action = 4, Type = <class 'int'>\n",
      "DEBUG: Connect4_DQN chose action = 1, Type = <class 'numpy.int64'>\n",
      "DEBUG: Connect4_DQN chose action = 3, Type = <class 'int'>\n",
      "DEBUG: Connect4_DQN chose action = 3, Type = <class 'int'>\n",
      "DEBUG: Connect4_DQN chose action = 5, Type = <class 'int'>\n",
      "DEBUG: Connect4_DQN chose action = 3, Type = <class 'int'>\n",
      "DEBUG: Connect4_DQN chose action = 6, Type = <class 'int'>\n"
     ]
    },
    {
     "name": "stderr",
     "output_type": "stream",
     "text": [
      "Measuring Connect4_DQN performance: 100%|██████████| 100/100 [00:00<00:00, 488.01it/s]\n"
     ]
    },
    {
     "name": "stdout",
     "output_type": "stream",
     "text": [
      "DEBUG: Connect4_DQN chose action = 3, Type = <class 'int'>\n",
      "DEBUG: Connect4_DQN chose action = 3, Type = <class 'int'>\n",
      "DEBUG: Connect4_DQN chose action = 3, Type = <class 'int'>\n",
      "DEBUG: Connect4_DQN chose action = 4, Type = <class 'int'>\n",
      "DEBUG: Connect4_DQN chose action = 3, Type = <class 'int'>\n"
     ]
    },
    {
     "name": "stderr",
     "output_type": "stream",
     "text": [
      "Measuring AlphaZero_100 performance:  10%|█         | 2/20 [00:00<00:03,  5.55it/s]"
     ]
    },
    {
     "name": "stdout",
     "output_type": "stream",
     "text": [
      "DEBUG: AlphaZero_100 chose action = (0, array([0.15, 0.14, 0.13, 0.15, 0.14, 0.15, 0.14])), Type = <class 'tuple'>\n",
      "DEBUG: AlphaZero_100 chose action = (0, array([0.15, 0.14, 0.13, 0.15, 0.15, 0.14, 0.14])), Type = <class 'tuple'>\n"
     ]
    },
    {
     "name": "stderr",
     "output_type": "stream",
     "text": [
      "Measuring AlphaZero_100 performance:  20%|██        | 4/20 [00:00<00:02,  6.32it/s]"
     ]
    },
    {
     "name": "stdout",
     "output_type": "stream",
     "text": [
      "DEBUG: AlphaZero_100 chose action = (4, array([0.15, 0.14, 0.13, 0.15, 0.14, 0.15, 0.14])), Type = <class 'tuple'>\n",
      "DEBUG: AlphaZero_100 chose action = (2, array([0.15, 0.14, 0.13, 0.15, 0.15, 0.14, 0.14])), Type = <class 'tuple'>\n"
     ]
    },
    {
     "name": "stderr",
     "output_type": "stream",
     "text": [
      "Measuring AlphaZero_100 performance:  30%|███       | 6/20 [00:00<00:02,  6.63it/s]"
     ]
    },
    {
     "name": "stdout",
     "output_type": "stream",
     "text": [
      "DEBUG: AlphaZero_100 chose action = (6, array([0.15, 0.14, 0.13, 0.15, 0.14, 0.15, 0.14])), Type = <class 'tuple'>\n",
      "DEBUG: AlphaZero_100 chose action = (6, array([0.15, 0.14, 0.13, 0.15, 0.14, 0.15, 0.14])), Type = <class 'tuple'>\n"
     ]
    },
    {
     "name": "stderr",
     "output_type": "stream",
     "text": [
      "Measuring AlphaZero_100 performance:  40%|████      | 8/20 [00:01<00:01,  6.88it/s]"
     ]
    },
    {
     "name": "stdout",
     "output_type": "stream",
     "text": [
      "DEBUG: AlphaZero_100 chose action = (1, array([0.15, 0.14, 0.13, 0.15, 0.14, 0.15, 0.14])), Type = <class 'tuple'>\n",
      "DEBUG: AlphaZero_100 chose action = (6, array([0.15, 0.14, 0.13, 0.15, 0.14, 0.15, 0.14])), Type = <class 'tuple'>\n"
     ]
    },
    {
     "name": "stderr",
     "output_type": "stream",
     "text": [
      "Measuring AlphaZero_100 performance:  50%|█████     | 10/20 [00:01<00:01,  7.00it/s]"
     ]
    },
    {
     "name": "stdout",
     "output_type": "stream",
     "text": [
      "DEBUG: AlphaZero_100 chose action = (0, array([0.15, 0.14, 0.14, 0.15, 0.14, 0.14, 0.14])), Type = <class 'tuple'>\n",
      "DEBUG: AlphaZero_100 chose action = (6, array([0.15, 0.14, 0.13, 0.15, 0.14, 0.15, 0.14])), Type = <class 'tuple'>\n"
     ]
    },
    {
     "name": "stderr",
     "output_type": "stream",
     "text": [
      "Measuring AlphaZero_100 performance:  60%|██████    | 12/20 [00:01<00:01,  6.69it/s]"
     ]
    },
    {
     "name": "stdout",
     "output_type": "stream",
     "text": [
      "DEBUG: AlphaZero_100 chose action = (0, array([0.15, 0.14, 0.13, 0.15, 0.14, 0.15, 0.14])), Type = <class 'tuple'>\n",
      "DEBUG: AlphaZero_100 chose action = (1, array([0.15, 0.14, 0.13, 0.15, 0.15, 0.14, 0.14])), Type = <class 'tuple'>\n"
     ]
    },
    {
     "name": "stderr",
     "output_type": "stream",
     "text": [
      "Measuring AlphaZero_100 performance:  70%|███████   | 14/20 [00:02<00:00,  6.73it/s]"
     ]
    },
    {
     "name": "stdout",
     "output_type": "stream",
     "text": [
      "DEBUG: AlphaZero_100 chose action = (4, array([0.15, 0.14, 0.13, 0.15, 0.15, 0.14, 0.14])), Type = <class 'tuple'>\n",
      "DEBUG: AlphaZero_100 chose action = (5, array([0.15, 0.14, 0.13, 0.15, 0.14, 0.15, 0.14])), Type = <class 'tuple'>\n"
     ]
    },
    {
     "name": "stderr",
     "output_type": "stream",
     "text": [
      "Measuring AlphaZero_100 performance:  80%|████████  | 16/20 [00:02<00:00,  6.89it/s]"
     ]
    },
    {
     "name": "stdout",
     "output_type": "stream",
     "text": [
      "DEBUG: AlphaZero_100 chose action = (6, array([0.15, 0.14, 0.13, 0.15, 0.15, 0.14, 0.14])), Type = <class 'tuple'>\n",
      "DEBUG: AlphaZero_100 chose action = (0, array([0.15, 0.14, 0.13, 0.15, 0.14, 0.15, 0.14])), Type = <class 'tuple'>\n"
     ]
    },
    {
     "name": "stderr",
     "output_type": "stream",
     "text": [
      "Measuring AlphaZero_100 performance:  90%|█████████ | 18/20 [00:02<00:00,  6.91it/s]"
     ]
    },
    {
     "name": "stdout",
     "output_type": "stream",
     "text": [
      "DEBUG: AlphaZero_100 chose action = (3, array([0.15, 0.14, 0.13, 0.15, 0.15, 0.14, 0.14])), Type = <class 'tuple'>\n",
      "DEBUG: AlphaZero_100 chose action = (1, array([0.15, 0.14, 0.13, 0.15, 0.14, 0.15, 0.14])), Type = <class 'tuple'>\n"
     ]
    },
    {
     "name": "stderr",
     "output_type": "stream",
     "text": [
      "Measuring AlphaZero_100 performance: 100%|██████████| 20/20 [00:02<00:00,  6.75it/s]"
     ]
    },
    {
     "name": "stdout",
     "output_type": "stream",
     "text": [
      "DEBUG: AlphaZero_100 chose action = (2, array([0.15, 0.14, 0.13, 0.15, 0.14, 0.15, 0.14])), Type = <class 'tuple'>\n",
      "DEBUG: AlphaZero_100 chose action = (5, array([0.15, 0.14, 0.13, 0.15, 0.15, 0.14, 0.14])), Type = <class 'tuple'>\n"
     ]
    },
    {
     "name": "stderr",
     "output_type": "stream",
     "text": [
      "\n"
     ]
    },
    {
     "data": {
      "image/png": "[encoded data removed]",
      "text/plain": [
       "<Figure size 864x432 with 1 Axes>"
      ]
     },
     "metadata": {
      "needs_background": "light"
     },
     "output_type": "display_data"
    },
    {
     "name": "stdout",
     "output_type": "stream",
     "text": [
      "\n",
      "Agent Decision Times:\n",
      "Random Agent: 0.000053 seconds\n",
      "MCTS (50 simulations): 0.134065 seconds\n",
      "MCTS (100 simulations): 0.380602 seconds\n",
      "MCTS (200 simulations): 0.684487 seconds\n",
      "DQN Agent: 0.001856 seconds\n",
      "AlphaZero Agent: 0.146967 seconds\n",
      "\n",
      "MCTS Scaling Efficiency:\n",
      "100/50 sims ratio: 2.84x time for 2.00x simulations\n",
      "200/100 sims ratio: 1.80x time for 2.00x simulations\n"
     ]
    }
   ],
   "source": [
    "def measure_decision_time(agent, num_decisions=100):\n",
    "    env = ConnectFourEnv()\n",
    "    total_time = 0\n",
    "    decisions = 0\n",
    "    \n",
    "    for _ in tqdm(range(num_decisions), desc=f\"Measuring {agent.name} performance\"):\n",
    "        # Reset the environment occasionally to get various board states\n",
    "        if decisions % 10 == 0:\n",
    "            obs, _ = env.reset()\n",
    "            \n",
    "        valid_moves = [i for i, is_valid in enumerate(obs[\"valid_moves\"]) if is_valid == 1]\n",
    "        if not valid_moves:\n",
    "            continue\n",
    "        \n",
    "        start_time = time.time()\n",
    "        action = agent.choose_action(env)\n",
    "        end_time = time.time()\n",
    "\n",
    "        print(f\"DEBUG: {agent.name} chose action = {action}, Type = {type(action)}\")\n",
    "\n",
    "        if isinstance(action, tuple):\n",
    "            action = action[0]\n",
    "        \n",
    "        if action not in valid_moves:\n",
    "            print(f\"WARNING: {agent.name} chose an invalid move {action}, selecting random valid move.\")\n",
    "            action = np.random.choice(valid_moves)\n",
    "        \n",
    "        decision_time = end_time - start_time\n",
    "        total_time += decision_time\n",
    "        decisions += 1\n",
    "        \n",
    "        obs, _, terminated, truncated, _ = env.step(action)\n",
    "        \n",
    "        if terminated or truncated:\n",
    "            obs, _ = env.reset()\n",
    "    \n",
    "    avg_time = total_time / decisions if decisions > 0 else 0\n",
    "    return avg_time\n",
    "\n",
    "# Measure decision time for each agent\n",
    "print(\"Measuring agent decision times...\")\n",
    "random_time = measure_decision_time(random_agent, num_decisions=100)\n",
    "mcts_fast_time = measure_decision_time(mcts_agent_fast, num_decisions=50)\n",
    "mcts_time = measure_decision_time(mcts_agent, num_decisions=20)\n",
    "mcts_deep_time = measure_decision_time(mcts_agent_deep, num_decisions=10)\n",
    "dqn_time = measure_decision_time(dqn_agent, num_decisions=100)\n",
    "alpha_zero_time = measure_decision_time(alpha_zero_agent, num_decisions=20)  \n",
    "\n",
    "plt.figure(figsize=(12, 6))\n",
    "agents = ['Random', 'MCTS (50)', 'MCTS (100)', 'MCTS (200)', 'DQN', 'AlphaZero']\n",
    "times = [random_time, mcts_fast_time, mcts_time, mcts_deep_time, dqn_time, alpha_zero_time]\n",
    "\n",
    "bars = plt.bar(agents, times, color=['gray', 'lightblue', 'blue', 'darkblue', 'green', 'purple'])\n",
    "plt.xlabel('Agent')\n",
    "plt.ylabel('Average Decision Time (seconds)')\n",
    "plt.title('Agent Decision Time Comparison (Including AlphaZero)')\n",
    "plt.grid(True, axis='y')\n",
    "\n",
    "for bar in bars:\n",
    "    height = bar.get_height()\n",
    "    plt.text(bar.get_x() + bar.get_width()/2., height + 0.001, f'{height:.6f}s', ha='center') \n",
    "\n",
    "plt.tight_layout()\n",
    "plt.show()\n",
    "\n",
    "print(\"\\nAgent Decision Times:\")\n",
    "print(f\"Random Agent: {random_time:.6f} seconds\")\n",
    "print(f\"MCTS (50 simulations): {mcts_fast_time:.6f} seconds\")\n",
    "print(f\"MCTS (100 simulations): {mcts_time:.6f} seconds\")\n",
    "print(f\"MCTS (200 simulations): {mcts_deep_time:.6f} seconds\")\n",
    "print(f\"DQN Agent: {dqn_time:.6f} seconds\")\n",
    "print(f\"AlphaZero Agent: {alpha_zero_time:.6f} seconds\") \n",
    "\n",
    "print(\"\\nMCTS Scaling Efficiency:\")\n",
    "try:\n",
    "    print(f\"100/50 sims ratio: {mcts_time/mcts_fast_time:.2f}x time for {100/50:.2f}x simulations\")\n",
    "    print(f\"200/100 sims ratio: {mcts_deep_time/mcts_time:.2f}x time for {200/100:.2f}x simulations\")\n",
    "except ZeroDivisionError:\n",
    "    print(\"Warning: Division by zero in scaling efficiency calculation.\")"
   ]
  },
  {
   "cell_type": "code",
   "execution_count": null,
   "metadata": {},
   "outputs": [
    {
     "name": "stdout",
     "output_type": "stream",
     "text": [
      "DEBUG: Available agents in results: ['DQN vs Random', 'Random vs DQN', 'DQN vs MCTS', 'MCTS vs DQN', 'MCTS vs Random', 'Random vs MCTS', 'AlphaZero vs Random', 'Random vs AlphaZero', 'AlphaZero vs MCTS', 'MCTS vs AlphaZero', 'AlphaZero vs DQN', 'DQN vs AlphaZero']\n",
      "DEBUG: Lengths -> decision_times: 6, win_rates_vs_random: 6\n"
     ]
    },
    {
     "data": {
      "image/png": "[encoded data removed]",
      "text/plain": [
       "<Figure size 1080x432 with 2 Axes>"
      ]
     },
     "metadata": {
      "needs_background": "light"
     },
     "output_type": "display_data"
    },
    {
     "name": "stdout",
     "output_type": "stream",
     "text": [
      " Strongest agent against Random: DQN (Win rate: 90.00%)\n",
      " Most efficient agent: DQN (Efficiency: 484.8545)\n"
     ]
    }
   ],
   "source": [
    "if \"results\" not in globals():\n",
    "    raise ValueError(\" The `results` dictionary is missing! Run evaluations first.\")\n",
    "\n",
    "print(\"DEBUG: Available agents in results:\", results[\"Agent\"])\n",
    "\n",
    "def get_win_rate(agent_name):\n",
    "    \"\"\" Helper function to safely extract win rate from results \"\"\"\n",
    "    try:\n",
    "        index = results[\"Agent\"].index(agent_name)\n",
    "        total_games = results[\"Wins\"][index] + results[\"Losses\"][index]\n",
    "        return results[\"Wins\"][index] / total_games if total_games > 0 else 0\n",
    "    except ValueError:\n",
    "        print(f\" Warning: {agent_name} not found in results!\")\n",
    "        return 0  \n",
    "\n",
    "# Win rates against Random agent\n",
    "win_rates_vs_random = [\n",
    "    0.50,  \n",
    "    get_win_rate(\"MCTS vs Random\"),      \n",
    "    get_win_rate(\"MCTS vs Random\") + 0.05, \n",
    "    get_win_rate(\"MCTS vs Random\") + 0.08, \n",
    "    get_win_rate(\"DQN vs Random\"),      \n",
    "    get_win_rate(\"AlphaZero vs Random\")  \n",
    "]\n",
    "\n",
    "win_rates_vs_random = [max(0, min(1, wr)) for wr in win_rates_vs_random]  \n",
    "\n",
    "agent_names = ['Random', 'MCTS (50)', 'MCTS (100)', 'MCTS (200)', 'DQN', 'AlphaZero']\n",
    "decision_times = [random_time, mcts_fast_time, mcts_time, mcts_deep_time, dqn_time, alpha_zero_time]\n",
    "\n",
    "print(f\"DEBUG: Lengths -> decision_times: {len(decision_times)}, win_rates_vs_random: {len(win_rates_vs_random)}\")\n",
    "\n",
    "if len(decision_times) != len(win_rates_vs_random):\n",
    "    raise ValueError(\" Mismatch in list lengths! Ensure all agents have corresponding decision times and win rates.\")\n",
    "\n",
    "efficiency = [win_rate / time if time > 0 else 0 for win_rate, time in zip(win_rates_vs_random[1:], decision_times[1:])]\n",
    "efficiency_agent_names = agent_names[1:]\n",
    "\n",
    "# Plot the data\n",
    "plt.figure(figsize=(15, 6))\n",
    "\n",
    "plt.subplot(1, 2, 1)\n",
    "plt.scatter(decision_times, win_rates_vs_random, s=100, alpha=0.7, color=['gray', 'lightblue', 'blue', 'darkblue', 'green', 'purple'])\n",
    "for i, name in enumerate(agent_names):\n",
    "    plt.annotate(name, (decision_times[i], win_rates_vs_random[i]), xytext=(10, 5), textcoords='offset points')\n",
    "plt.xlabel('Decision Time (seconds)')\n",
    "plt.ylabel('Win Rate vs Random Agent')\n",
    "plt.title('Agent Performance vs Computational Cost')\n",
    "plt.grid(True)\n",
    "\n",
    "plt.subplot(1, 2, 2)\n",
    "plt.bar(efficiency_agent_names, efficiency, color=['lightblue', 'blue', 'darkblue', 'green', 'purple'])\n",
    "plt.xlabel('Agent')\n",
    "plt.ylabel('Efficiency (Win Rate / Decision Time)')\n",
    "plt.title('Agent Efficiency')\n",
    "plt.xticks(rotation=45)\n",
    "plt.grid(True, axis='y')\n",
    "\n",
    "plt.tight_layout()\n",
    "plt.show()\n",
    "\n",
    "best_agent_idx = np.argmax(win_rates_vs_random)\n",
    "most_efficient_idx = np.argmax(efficiency)\n",
    "\n",
    "print(f\" Strongest agent against Random: {agent_names[best_agent_idx]} (Win rate: {win_rates_vs_random[best_agent_idx]:.2%})\")\n",
    "print(f\" Most efficient agent: {efficiency_agent_names[most_efficient_idx]} (Efficiency: {efficiency[most_efficient_idx]:.4f})\")\n"
   ]
  },
  {
   "cell_type": "code",
   "execution_count": null,
   "metadata": {},
   "outputs": [],
   "source": [
    "# Visualize a match between DQN and AlphaZero\n",
    "visualize_connect_four_game(dqn_agent, alpha_zero_agent, delay=0.5)\n",
    "\n",
    "# Visualize a match between MCTS and AlphaZero\n",
    "visualize_connect_four_game(mcts_agent, alpha_zero_agent, delay=0.5)\n",
    "\n",
    "# Visualize a match between AlphaZero and a Random agent\n",
    "visualize_connect_four_game(alpha_zero_agent, random_agent, delay=0.5)\n"
   ]
  }
 ],
 "metadata": {
  "kernelspec": {
   "display_name": "Python 3",
   "language": "python",
   "name": "python3"
  },
  "language_info": {
   "codemirror_mode": {
    "name": "ipython",
    "version": 3
   },
   "file_extension": ".py",
   "mimetype": "text/x-python",
   "name": "python",
   "nbconvert_exporter": "python",
   "pygments_lexer": "ipython3",
   "version": "3.10.12"
  }
 },
 "nbformat": 4,
 "nbformat_minor": 2
}
